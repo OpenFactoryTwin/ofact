{
 "cells": [
  {
   "metadata": {
    "ExecuteTime": {
     "end_time": "2025-05-18T18:06:53.191849Z",
     "start_time": "2025-05-18T18:06:41.557960Z"
    }
   },
   "cell_type": "code",
   "source": [
    "from tkinter.font import names\n",
    "\n",
    "\n",
    "class StateModelAdaption:\n",
    "\n",
    "    def __init__(self, state_model):\n",
    "        self._state_model = state_model\n",
    "\n",
    "    def add_stationary_resource(self, names: str):\n",
    "        for name in names:\n",
    "            resources = self._state_model.get_all_resources()  # Get all resources in the state model\n",
    "            resource = next((r for r in resources if r.name == name), None)  # Search for the resource by name\n",
    "\n",
    "            # ToDo: ensure that more than one resource can be added\n",
    "            #  additional resources have different names\n",
    "\n",
    "            if resource:\n",
    "                duplicated_resource = resource.duplicate()  # Duplicate the resource\n",
    "                self._state_model.add_resource(duplicated_resource)  # Add the resource to the state model\n",
    "                print(f\"Stationary resource {name} added successfully.\")\n",
    "\n",
    "                return duplicated_resource\n",
    "            else:\n",
    "                print(f\"Resource {name} not found in the model.\")\n",
    "\n",
    "    def add_non_stationary_resource(self, names: str):\n",
    "        for name in names:\n",
    "            resources = self._state_model.get_all_resources()  # Get all resources in the state model\n",
    "            resource = next((r for r in resources if r.name == name), None)  # Search for the resource by name\n",
    "\n",
    "            if resource:\n",
    "                duplicated_resource = resource.duplicate()  # Duplicate the resource\n",
    "                self._state_model.add_resource(duplicated_resource)  # Add the resource to the state model\n",
    "                print(f\"Non-stationary resource {name} added successfully.\")  # Confirm resource was added\n",
    "\n",
    "                return duplicated_resource\n",
    "            else:\n",
    "                print(f\"Resource {name} not found in the model.\")  # If resource is not found\n",
    "\n",
    "    def remove_stationary_resource(self, names: str):\n",
    "        for name in names:\n",
    "            resources = self._state_model.get_all_resources()  # Get all resources in the state model\n",
    "            resource = next((r for r in resources if r.name == name), None)  # Search for the resource by name\n",
    "\n",
    "            if resource:\n",
    "                self._state_model.delete_stationary_resource(resource)  # Replace with the actual method if necessary\n",
    "                print(f\"Stationary resource {name} removed successfully.\")  # Confirm removal\n",
    "            else:\n",
    "                print(f\"Resource {name} not found in the model.\")  # If resource is not found\n",
    "\n",
    "    def remove_non_stationary_resource(self, names: str):\n",
    "        for name in names:\n",
    "            resources = self._state_model.get_all_resources()\n",
    "            resource = next((r for r in resources if r.name == name), None)\n",
    "\n",
    "            if resource:\n",
    "                self._state_model.delete_non_stationary_resource(resource)\n",
    "                print(f\"Non-stationary resource {name} removed successfully.\")\n",
    "            else:\n",
    "                print(f\"Resource {name} not found.\")\n",
    "\n",
    "\n",
    "if __name__ == \"__main__\":\n",
    "    from pathlib import Path\n",
    "    import pandas as pd\n",
    "\n",
    "    from ofact.planning_services.model_generation.persistence import deserialize_state_model\n",
    "    from ofact.twin.repository_services.deserialization.order_types import OrderType\n",
    "\n",
    "    from projects.bicycle_world.settings import PROJECT_PATH1\n",
    "\n",
    "    print(PROJECT_PATH1)\n",
    "\n",
    "    # Example usage\n",
    "    path_to_model = \"scenarios/current/models/twin/\"\n",
    "    state_model_file_name = \"base_wo_material_supply.pkl\"\n",
    "\n",
    "    state_model_file_path = Path(str(PROJECT_PATH1), path_to_model + state_model_file_name)\n",
    "    state_model_generation_settings = {\"order_generation_from_excel\": False,\n",
    "                                       \"customer_generation_from_excel\": True,\n",
    "                                       \"customer_amount\": 5,\n",
    "                                       \"order_amount\": 20,\n",
    "                                       \"order_type\": OrderType.PRODUCT_CONFIGURATOR}\n",
    "    state_model = deserialize_state_model(state_model_file_path, persistence_format=\"pkl\",\n",
    "                                          deserialization_required=False,\n",
    "                                          state_model_generation_settings=state_model_generation_settings)\n",
    "    state_model_adaption = StateModelAdaption(state_model)\n",
    "\n",
    "\n"
   ],
   "id": "7b8a9ff9cfe89448",
   "outputs": [
    {
     "name": "stdout",
     "output_type": "stream",
     "text": [
      "C:/Users/MansK/ofact-intern/projects/bicycle_world\n",
      "Platform name: Windows\n"
     ]
    }
   ],
   "execution_count": 38
  },
  {
   "metadata": {
    "ExecuteTime": {
     "end_time": "2025-05-18T18:16:34.753319Z",
     "start_time": "2025-05-18T18:16:32.829677Z"
    }
   },
   "cell_type": "code",
   "source": "    state_model_adaption.add_stationary_resource([\"wheel\"])  # Replace \"painting\" with the resource name you want to add",
   "id": "5d8694377eab9f9b",
   "outputs": [
    {
     "name": "stdout",
     "output_type": "stream",
     "text": [
      "Add resource 'wheel' to digital twin\n",
      "Stationary resource wheel added successfully.\n"
     ]
    },
    {
     "data": {
      "text/plain": [
       "<ofact.twin.state_model.entities.WorkStation at 0x1f5883471a0>"
      ]
     },
     "execution_count": 39,
     "metadata": {},
     "output_type": "execute_result"
    }
   ],
   "execution_count": 39
  },
  {
   "metadata": {
    "ExecuteTime": {
     "end_time": "2025-05-18T18:16:41.894871Z",
     "start_time": "2025-05-18T18:16:41.886354Z"
    }
   },
   "cell_type": "code",
   "source": "state_model_adaption.add_non_stationary_resource([\"Main Part AGV 1\"])",
   "id": "71a9fe235f6d8864",
   "outputs": [
    {
     "name": "stdout",
     "output_type": "stream",
     "text": [
      "Add resource 'Main Part AGV 1' to digital twin\n",
      "Non-stationary resource Main Part AGV 1 added successfully.\n"
     ]
    },
    {
     "data": {
      "text/plain": [
       "<ofact.twin.state_model.entities.ActiveMovingResource at 0x1f51997b800>"
      ]
     },
     "execution_count": 40,
     "metadata": {},
     "output_type": "execute_result"
    }
   ],
   "execution_count": 40
  },
  {
   "metadata": {
    "ExecuteTime": {
     "end_time": "2025-05-18T18:06:17.814280Z",
     "start_time": "2025-05-18T18:06:17.780347Z"
    }
   },
   "cell_type": "code",
   "source": "state_model_adaption.remove_stationary_resource([\"wheel\"]) # Replace \"painting\" with the resource name you want to add",
   "id": "9d32e9937c2783b8",
   "outputs": [
    {
     "name": "stdout",
     "output_type": "stream",
     "text": [
      "Resource wheel not found in the model.\n"
     ]
    }
   ],
   "execution_count": 36
  },
  {
   "metadata": {
    "ExecuteTime": {
     "end_time": "2025-05-18T18:02:13.804113Z",
     "start_time": "2025-05-18T18:02:13.788201Z"
    }
   },
   "cell_type": "code",
   "source": "state_model_adaption.remove_non_stationary_resource([\"Main Part AGV 1\"])",
   "id": "715362ef8e2b13d8",
   "outputs": [
    {
     "name": "stdout",
     "output_type": "stream",
     "text": [
      "Resource Main Part AGV 1 not found.\n"
     ]
    }
   ],
   "execution_count": 8
  }
 ],
 "metadata": {
  "kernelspec": {
   "display_name": "Python 3",
   "language": "python",
   "name": "python3"
  },
  "language_info": {
   "codemirror_mode": {
    "name": "ipython",
    "version": 2
   },
   "file_extension": ".py",
   "mimetype": "text/x-python",
   "name": "python",
   "nbconvert_exporter": "python",
   "pygments_lexer": "ipython2",
   "version": "2.7.6"
  }
 },
 "nbformat": 4,
 "nbformat_minor": 5
}
