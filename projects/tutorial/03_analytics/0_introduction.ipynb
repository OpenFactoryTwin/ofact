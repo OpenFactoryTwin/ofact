{
 "cells": [
  {
   "metadata": {},
   "cell_type": "markdown",
   "source": "# Analytics",
   "id": "143274a589f50bc6"
  },
  {
   "metadata": {},
   "cell_type": "markdown",
   "source": [
    "Based on the data integrated in the state model, you can analyze the performance of the production system.\n",
    "\n",
    "For the system analysis, particularly the process executions are used to derive KPIs.\n",
    "In addition, for some KPIs (e.g., the inventory or the planned delivery date), the orders and the resources are considered.\n",
    "\n",
    "The standard KPIs include:\n",
    "- Costs\n",
    "  - Inventory\n",
    "  - (Resource-) Capacity Utilization\n",
    "- Performances\n",
    "  - Lead Time\n",
    "  - Delivery Reliability\n",
    "- Quality"
   ],
   "id": "7431937e7e41d295"
  },
  {
   "metadata": {},
   "cell_type": "code",
   "outputs": [],
   "execution_count": null,
   "source": "",
   "id": "7be7f8c4d1e31216"
  }
 ],
 "metadata": {},
 "nbformat": 5,
 "nbformat_minor": 9
}
