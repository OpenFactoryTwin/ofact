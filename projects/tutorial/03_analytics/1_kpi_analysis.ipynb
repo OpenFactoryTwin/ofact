{
 "cells": [
  {
   "metadata": {},
   "cell_type": "markdown",
   "source": "## 1. Load state model",
   "id": "e4d0313e33c71946"
  },
  {
   "metadata": {
    "ExecuteTime": {
     "start_time": "2025-04-03T07:31:08.566103Z"
    }
   },
   "cell_type": "code",
   "source": [
    "from ofact.planning_services.model_generation.persistence import deserialize_state_model\n",
    "from ofact.twin.state_model.model import StateModel"
   ],
   "id": "9b98a91556db87f6",
   "outputs": [
    {
     "name": "stdout",
     "output_type": "stream",
     "text": [
      "Current working directory: C:\\Users\\afreiter\\PycharmProjects\\ofact-intern\\projects\\tutorial\\03_analytics\n",
      "Resolved ROOT_PATH: C:\\Users\\afreiter\\PycharmProjects\\ofact-intern\\ofact\n",
      "Resolved state model file path: C:\\Users\\afreiter\\PycharmProjects\\ofact-intern\\ofact\\projects\\iot_factory_simulation\\models\\twin\\mini.xlsx\n",
      "No module named 'pyarrow'\n"
     ]
    }
   ],
   "execution_count": 2
  },
  {
   "cell_type": "code",
   "id": "initial_id",
   "metadata": {
    "collapsed": true,
    "ExecuteTime": {
     "end_time": "2025-04-03T07:30:41.520631Z",
     "start_time": "2025-04-03T07:30:19.646778Z"
    }
   },
   "source": [
    "state_model_file_path = \"../../tutorial/updated_state_model.pkl\"\n",
    "state_model: StateModel = deserialize_state_model(state_model_file_path, persistence_format=\"pkl\",\n",
    "                                                  dynamics=True)\n"
   ],
   "outputs": [
    {
     "name": "stdout",
     "output_type": "stream",
     "text": [
      "Platform name: Windows\n"
     ]
    }
   ],
   "execution_count": 3
  },
  {
   "metadata": {
    "ExecuteTime": {
     "end_time": "2025-04-03T07:30:41.538998Z",
     "start_time": "2025-04-03T07:30:41.527936Z"
    }
   },
   "cell_type": "code",
   "source": [
    "a = state_model.get_resource_capacity_utilization([\"Main Part AGV 1\"])\n",
    "b = state_model.get_order_lead_time()\n",
    "c = state_model.get_delivery_reliability()\n",
    "print(a)\n",
    "print(b)\n",
    "print(c)"
   ],
   "id": "8e3b669c6f5c5fd9",
   "outputs": [
    {
     "name": "stdout",
     "output_type": "stream",
     "text": [
      "[1.9251131003946114e-14]\n",
      "3:36:37.500000\n",
      "0.5\n"
     ]
    }
   ],
   "execution_count": 4
  },
  {
   "metadata": {},
   "cell_type": "markdown",
   "source": "## 2. Show KPI's",
   "id": "217b25cf6d72fce0"
  },
  {
   "metadata": {
    "ExecuteTime": {
     "end_time": "2025-04-02T15:17:50.273578Z",
     "start_time": "2025-04-02T15:17:47.843017Z"
    }
   },
   "cell_type": "code",
   "source": [
    "from datetime import datetime\n",
    "from ofact.planning_services.scenario_analytics.scenario_handling.single import SingleScenarioHandler\n",
    "\n",
    "scenario_name = \"current_state\"\n",
    "single_scenario_handler = SingleScenarioHandler(state_model, scenario_name=scenario_name)\n",
    "\n",
    "start_time = datetime(2024, 10, 22, 8)\n",
    "end_time = datetime(2024, 10, 25, 8)\n",
    "start_time_timestamp = start_time.timestamp()\n",
    "end_time_timestamp = end_time.timestamp()\n",
    "available_ids_dict = single_scenario_handler.get_filter_options(start_time=start_time_timestamp, end_time=end_time_timestamp)\n",
    "order_ids_list, product_ids_list, process_ids_list, resource_ids_list = (\n",
    "    list(available_ids_dict[\"order\"].index), list(available_ids_dict[\"product\"].index),\n",
    "    list(available_ids_dict[\"process\"].index), list(available_ids_dict[\"resource\"].index))\n",
    "\n",
    "# order lead time\n",
    "lead_time_df = single_scenario_handler.get_lead_time(start_time=start_time, end_time=end_time,\n",
    "                                                     order_ids_list=order_ids_list, product_ids_list=product_ids_list,\n",
    "                                                     process_ids_list=process_ids_list, resource_ids_list=resource_ids_list,\n",
    "                                                     event_type=\"ACTUAL\", view=\"ORDER\")\n",
    "\n",
    "print(\"Available column names:\", lead_time_df.columns.values)\n",
    "print(\"\\n\")\n",
    "total_lead_time_mean = round(lead_time_df[\"avg_lead_time\"].mean())\n",
    "print(f\"The average total lead time (without waiting time) of the orders is {total_lead_time_mean} minutes.\")\n",
    "total_lead_time_wt_mean = round(lead_time_df[\"total_lead_time_wt\"].mean(), 2)\n",
    "print(f\"The average total lead time (with waiting time) for orders is {total_lead_time_wt_mean} minutes, \\n\",\n",
    "      f\"including a waiting time of {total_lead_time_wt_mean - total_lead_time_mean}, \\n\",\n",
    "      f\"which is {round(total_lead_time_wt_mean / total_lead_time_mean, 1)} times the processing time\")\n"
   ],
   "id": "d97d87e7ddff857",
   "outputs": [
    {
     "name": "stdout",
     "output_type": "stream",
     "text": [
      "AnalyticsDataBase instantiation finished\n",
      "Available column names: ['ID' 'View' 'Start Time [s]' 'End Time [s]' 'avg_lead_time'\n",
      " 'avg_waiting_time' 'avg_lead_time_wt' 'total_lead_time'\n",
      " 'total_waiting_time' 'total_lead_time_wt' 'min_lead_time'\n",
      " 'min_waiting_time' 'min_lead_time_wt' 'max_lead_time' 'max_waiting_time'\n",
      " 'max_lead_time_wt' 'var_lead_time' 'var_waiting_time' 'var_lead_time_wt']\n",
      "\n",
      "\n",
      "The average total lead time (without waiting time) of the orders is 65 minutes.\n",
      "The average total lead time (with waiting time) for orders is 208.26 minutes, \n",
      " including a waiting time of 143.26, \n",
      " which is 3.2 times the processing time\n"
     ]
    }
   ],
   "execution_count": 4
  },
  {
   "metadata": {},
   "cell_type": "markdown",
   "source": [
    "## 3. Show KPI's in Excel\n",
    "\n",
    "Export the KPI's in Excel files.\n"
   ],
   "id": "9e5d68ef3a7f493e"
  },
  {
   "metadata": {
    "ExecuteTime": {
     "end_time": "2025-04-02T15:18:22.802897Z",
     "start_time": "2025-04-02T15:18:15.769089Z"
    }
   },
   "cell_type": "code",
   "source": [
    "start_time = datetime(2024, 10, 22, 8)\n",
    "end_time = datetime(2024, 10, 22, 12)\n",
    "orders_df, products_df, processes_df, resources_df, resource_utilization_df = (\n",
    "                single_scenario_handler.get_all_kpis(start_time=start_time, end_time=end_time))\n",
    "\n",
    "orders_df.to_excel(\"orders.xlsx\", index=False)\n",
    "products_df.to_excel(\"products.xlsx\", index=False)\n",
    "processes_df.to_excel(\"processes.xlsx\", index=False)\n",
    "resources_df.to_excel(\"resources.xlsx\", index=False)"
   ],
   "id": "f075d83f59c97f57",
   "outputs": [
    {
     "name": "stdout",
     "output_type": "stream",
     "text": [
      "\u001B[0;37;40m[API] filter requested\u001B[0m\n"
     ]
    }
   ],
   "execution_count": 5
  },
  {
   "metadata": {},
   "cell_type": "code",
   "outputs": [],
   "execution_count": null,
   "source": "",
   "id": "20baebda146e8ec4"
  }
 ],
 "metadata": {
  "kernelspec": {
   "display_name": "Python 3",
   "language": "python",
   "name": "python3"
  },
  "language_info": {
   "codemirror_mode": {
    "name": "ipython",
    "version": 2
   },
   "file_extension": ".py",
   "mimetype": "text/x-python",
   "name": "python",
   "nbconvert_exporter": "python",
   "pygments_lexer": "ipython2",
   "version": "2.7.6"
  }
 },
 "nbformat": 4,
 "nbformat_minor": 5
}
