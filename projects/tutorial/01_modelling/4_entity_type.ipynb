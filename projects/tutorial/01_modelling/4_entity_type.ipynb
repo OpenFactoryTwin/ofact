{
 "cells": [
  {
   "cell_type": "code",
   "execution_count": 1,
   "id": "820c15f7-59e9-4884-bf37-254c07ce8519",
   "metadata": {},
   "outputs": [],
   "source": "from projects.tutorial.code.tutorial_handling import get_table, get_solution"
  },
  {
   "cell_type": "markdown",
   "id": "32657869-de2b-4254-a9cd-bb5e9732689f",
   "metadata": {},
   "source": [
    "## The Entity Type area\n",
    "\n",
    "In addition to the parts that are processed into the end product, it is also necessary to model the resources in order to take into account the elements that are used to manufacture the products. For this purpose, the elements of the system section are described as entities. \n",
    "The decision tree can help you to classify the respective elements. Here, the corresponding paths are run through in order to assign the respective elements to the entity types at the end. The explanation of the decision tree can be found in the notebook \"Entity\". Now, the categorized entities need to be modeled so that they can be considered in the digital twin state model.\n",
    "\n",
    "For the **label**, the Entity Types (and Part Types) must be specified.Normally, in the modelling process, you would often realise later that additional entity types are required. In these cases you would add them afterwards. Based on the decision tree, the following entity types could be identified:\n",
    "- *Packaging_station_et*\n",
    "- *Material_et*\n",
    "- *Buffer_station_et*\n",
    "- *Staff_et*\n",
    "- *Gamebox_pa_et*\n",
    "- *Gameboard_pa_et*\n",
    "- *Gamepieces_pa_et*\n",
    "\n",
    "\n",
    "The **name** does not need to be changed. \n",
    "\n",
    "For the Part Types, a **super_entity_type** is required. This has been previously named as *Material_et*. It will also be modeled as an Entity Type and entered in the Label column. \n",
    "\n",
    "## Modeling of the part area\n",
    "\n",
    "Let's start with the modeling of this area: Follow the instructions above and edit the second table. The first table is not editable and only shows the description. To display the two tables, start the function **\"get_table\"** in the next line.\n",
    "\n",
    "After you have modeled, you can display the solution by starting the **“get_solution”** function"
   ]
  },
  {
   "cell_type": "code",
   "execution_count": 2,
   "id": "6bdcba6b-bd25-4b8e-a5fb-edf83e55d41f",
   "metadata": {},
   "outputs": [
    {
     "name": "stderr",
     "output_type": "stream",
     "text": [
      "/home/rio/PycharmProjects/pythonProject/TutorialOFacT/code/tutorial_handling.py:12: SettingWithCopyWarning: \n",
      "A value is trying to be set on a copy of a slice from a DataFrame\n",
      "\n",
      "See the caveats in the documentation: https://pandas.pydata.org/pandas-docs/stable/user_guide/indexing.html#returning-a-view-versus-a-copy\n",
      "  df_description.fillna(\"\", inplace=True)\n"
     ]
    },
    {
     "data": {
      "application/vnd.jupyter.widget-view+json": {
       "model_id": "973641f097634184b66969ee8d449405",
       "version_major": 2,
       "version_minor": 0
      },
      "text/plain": [
       "VBox(children=(DataGrid(auto_fit_params={'area': 'all', 'padding': 30, 'numCols': None}, base_column_size=100,…"
      ]
     },
     "metadata": {},
     "output_type": "display_data"
    },
    {
     "data": {
      "application/vnd.jupyter.widget-view+json": {
       "model_id": "595c350b7ea74b09b356d44c1fce7ce5",
       "version_major": 2,
       "version_minor": 0
      },
      "text/plain": [
       "VBox(children=(HBox(children=(Button(description='Änderungen speichern', layout=Layout(width='200px'), style=B…"
      ]
     },
     "metadata": {},
     "output_type": "display_data"
    }
   ],
   "source": [
    "get_table(\"/models/twin/mini_model.xlsx\",\n",
    "          sheet_name=\"EntityType\",\n",
    "          target_file=\"/01_modelling/entity_type_modeled.xlsx\")"
   ]
  },
  {
   "cell_type": "code",
   "execution_count": 4,
   "id": "a9e2ec52-b71b-45a7-a58d-3ea7acbed960",
   "metadata": {},
   "outputs": [
    {
     "data": {
      "application/vnd.jupyter.widget-view+json": {
       "model_id": "1bb12af486034505a74e82843fcba909",
       "version_major": 2,
       "version_minor": 0
      },
      "text/plain": [
       "VBox(children=(DataGrid(auto_fit_params={'area': 'all', 'padding': 30, 'numCols': None}, base_column_size=150,…"
      ]
     },
     "metadata": {},
     "output_type": "display_data"
    }
   ],
   "source": [
    "get_solution(\"/models/twin/mini_model.xlsx\",\n",
    "             sheet_name=\"EntityType\")"
   ]
  }
 ],
 "metadata": {
  "kernelspec": {
   "display_name": "Python 3 (ipykernel)",
   "language": "python",
   "name": "python3"
  },
  "language_info": {
   "codemirror_mode": {
    "name": "ipython",
    "version": 3
   },
   "file_extension": ".py",
   "mimetype": "text/x-python",
   "name": "python",
   "nbconvert_exporter": "python",
   "pygments_lexer": "ipython3",
   "version": "3.10.13"
  }
 },
 "nbformat": 4,
 "nbformat_minor": 5
}
