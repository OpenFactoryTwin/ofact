{
 "cells": [
  {
   "cell_type": "markdown",
   "id": "154db281-aa4b-4d02-a3ec-03630d5837dd",
   "metadata": {},
   "source": [
    "After you have modeled each of the described areas, the next step would be to ensure the consistency of the model.\n",
    "What should be ensured?\n",
    "- Process chain should be consistent (Precedence graph)\n",
    "- Storages should be linked in the warehouses and work stations\n",
    "- All entity_types should be modeled\n",
    "- names should be unequal to the label (important for the right conversion to python objects)\n",
    "- ..."
   ]
  },
  {
   "metadata": {},
   "cell_type": "markdown",
   "source": [
    "❗ **Note:** For the next tutorial steps, we use the already available state model to ensure that the model works.\n",
    "However, if you have a different model, you can also try using it as input for the following steps."
   ],
   "id": "98e2e345b5043c2c"
  }
 ],
 "metadata": {
  "kernelspec": {
   "display_name": "Python 3 (ipykernel)",
   "language": "python",
   "name": "python3"
  },
  "language_info": {
   "codemirror_mode": {
    "name": "ipython",
    "version": 3
   },
   "file_extension": ".py",
   "mimetype": "text/x-python",
   "name": "python",
   "nbconvert_exporter": "python",
   "pygments_lexer": "ipython3",
   "version": "3.10.13"
  }
 },
 "nbformat": 4,
 "nbformat_minor": 5
}
