{
 "cells": [
  {
   "cell_type": "code",
   "execution_count": 1,
   "id": "initial_id",
   "metadata": {},
   "outputs": [],
   "source": "from projects.tutorial.code.tutorial_handling import get_table, get_solution"
  },
  {
   "cell_type": "markdown",
   "id": "2f03238a-8be6-4df5-9e98-2dd2d8624efe",
   "metadata": {},
   "source": [
    "## Resources and the plant\n",
    "\n",
    "Before you can model the resources, you need to define the layout of the factory. The layout is necessary to define the spatial dimensions of the factory. For this reason, the modelling of the factory corresponds to the layout.\n",
    "Once the layout has been modelled, the resources found in the decision tree can be described:\n",
    "- storage\n",
    "- Workstation\n",
    "- Active moving resource\n",
    "\n",
    "\n",
    "### Plant \n",
    "\n",
    "The **label** is structured by the ending \"_pl\". This is a board game factory. The label can be named as follows: *Boardgamefactory_pl*.\n",
    "The modeling procedure for **name** is known. \n",
    "\n",
    "Each **corner** point is defined by a tuple of an X and Y coordinate. The X and Y coordinates can also be negative, depending on your preference. \n",
    "The X and Y coordinates of the factory look like this: \n",
    "- *Lower left corner: -50, -50*\n",
    "- *Upper left corner: -50, 250*\n",
    "- *Upper right corner: 250, 250*\n",
    "- *Lower right corner: 250, -50*\n"
   ]
  },
  {
   "cell_type": "code",
   "execution_count": 2,
   "id": "c2bb2613-2362-4fce-8469-4b2ea87c6609",
   "metadata": {},
   "outputs": [
    {
     "name": "stderr",
     "output_type": "stream",
     "text": [
      "/home/rio/PycharmProjects/pythonProject/TutorialOFacT/code/tutorial_handling.py:15: SettingWithCopyWarning: \n",
      "A value is trying to be set on a copy of a slice from a DataFrame\n",
      "\n",
      "See the caveats in the documentation: https://pandas.pydata.org/pandas-docs/stable/user_guide/indexing.html#returning-a-view-versus-a-copy\n",
      "  df_description.fillna(\"\", inplace=True)\n"
     ]
    },
    {
     "data": {
      "application/vnd.jupyter.widget-view+json": {
       "model_id": "f0638654da59478e8f656847a391457c",
       "version_major": 2,
       "version_minor": 0
      },
      "text/plain": [
       "VBox(children=(DataGrid(auto_fit_params={'area': 'all', 'padding': 30, 'numCols': None}, base_column_size=100,…"
      ]
     },
     "metadata": {},
     "output_type": "display_data"
    },
    {
     "data": {
      "application/vnd.jupyter.widget-view+json": {
       "model_id": "1e7531061023445998b899e9572ff253",
       "version_major": 2,
       "version_minor": 0
      },
      "text/plain": [
       "VBox(children=(HBox(children=(Button(description='Änderungen speichern', layout=Layout(width='200px'), style=B…"
      ]
     },
     "metadata": {},
     "output_type": "display_data"
    }
   ],
   "source": [
    "get_table(\"/models/twin/mini_model.xlsx\",\n",
    "          sheet_name=\"Plant\",\n",
    "          target_file=\"/01_modelling/plant_modeled.xlsx\")"
   ]
  },
  {
   "cell_type": "code",
   "execution_count": 3,
   "id": "9bf6c9be-bd20-4f8e-8f92-99b5d100df54",
   "metadata": {},
   "outputs": [
    {
     "data": {
      "application/vnd.jupyter.widget-view+json": {
       "model_id": "3d3fadfbae7e485f9a40c56c14560cc9",
       "version_major": 2,
       "version_minor": 0
      },
      "text/plain": [
       "VBox(children=(DataGrid(auto_fit_params={'area': 'all', 'padding': 30, 'numCols': None}, base_column_size=150,…"
      ]
     },
     "metadata": {},
     "output_type": "display_data"
    }
   ],
   "source": [
    "get_solution(\"/models/twin/mini_model.xlsx\",\n",
    "             sheet_name=\"Plant\")"
   ]
  },
  {
   "cell_type": "markdown",
   "id": "9c69397f-01bb-47f0-ad4b-5cdce4defd95",
   "metadata": {},
   "source": [
    "### Resource: Storage\n",
    "\n",
    "Storages are used to store entities of the same entity type. These can be resources, such as AGVs, or also parts, e.g., materials, which are stored in a warehouse, at a workstation, or other resources. Therefore, it is necessary to model the attribute \"situated_in.\" This indicates where the storage is located.\n",
    "In the tutorial, on one hand, the materials are stored in the corresponding buffer space. On the other hand, an employee is working at the workstation. To determine the number of employees \"currently\" working at the workstation, these must also be modeled as storage.\n",
    "\n",
    "For the three parts, three different storages, in the form of buffer spaces, are needed. These must be modeled differently because they are stored in a homogeneous manner.\n",
    "First, the **labels** will be modeled as follows:\n",
    "- *Assembly_station_board_storage_s*\n",
    "- *Assembly_station_pieces_storage_s*\n",
    "- *Assembly_station_box_storage_s*\n",
    "- *Assembly_station_worker_storage_s*\n",
    "The reference to the workstation helps you maintain an overview, especially in larger production systems.\n",
    "\n",
    "The modeling of **name** is known also.\n",
    "\n",
    "Since all four modeled storages are buffer spaces, the same **Entity Type** will always be used, which has already been modeled in the Entity Type section: *\"buffer_station_et\"*.\n",
    "\n",
    "Additionally, a schedule for the **process execution** in the simulation phase is needed for each storage. Two different Process Execution Plans (Pep) are required. On one hand, we need a Pep for the storages where materials are stored, and another one as an availability plan for the employees. The schedule for the employees will be particularly relevant in the simulation to represent the availability of the working hours of the respective employees.\n",
    "For the three buffer spaces of the parts, the following Pep can be modeled, which must be entered in *material based storages*: *\"assembly_material_pep\"*.\n",
    "For the *employees*, a different Pep is needed. This is: *\"assembly_worker_pep\"*.\n",
    "\n",
    "In this example, there is only one **factory/plant**, so the modeled *\"boardgameplant_pl\"* applies to each of the storages. The assignment of each storage and also to other resources to the factory is necessary, as in larger production systems, it may be the case that multiple halls with respective other resources need to be modeled.\n",
    "\n",
    "The **positions** of the respective resources can be chosen freely. This will only be relevant in further development stages of the framework when the routing of the ActiveMovingResources is considered. Currently, you only need to ensure that the X and Y coordinates are within the respective corners of the board game factory and storages that are logically at the same point should be also modelled at the same point. In our tutorial, we assume that the coordinates are at 100 and 50. Thus, you can model the position as a tuple for each storage: *(100, 50)*.\n",
    "\n",
    "The same applies to the **length and width**. Please enter a *2* for each storage. As with the length, please enter a 2 for the width as well.\n",
    "\n",
    "Now it is necessary to specify the resources where the respective storage is **situated in**. The three buffer spaces are directly at the workstation; therefore, the workstation will be indicated here. It should be noted that the employee works at the workstation, and therefore, the workstation will also be modeled for this storage. The workstation has not yet been modeled as an Entity. However, this is now necessary. The nomenclature, i.e., the suffix \"as\" of the Entity must be observed. In this tutorial, the workstation is a packaging station, so it will be modeled as follows: *\"Packaging_station_ws\"*\n",
    "\n",
    "The number of stored entities is important to assess the inventory. For the buffer spaces of the parts, this is the maximal **capacity**. For the employee, this corresponds to the number of working employees. As outlined in the tutorial description, the *buffer spaces* of the parts have an initial stock of *40* which should be also the maximal capacity, so this will be entered there. Since only one employee works at the workstation, the value *1* is displayed for the *worker storage*.\n",
    "\n",
    "**Quality** of the resource is equal to *1*, meaning that the quality of the entities stored in the storage is not affected.\n",
    "\n",
    "Finally, the respective entity of the storage will be modeled (**stored entities**). Pay particular attention to the nomenclature of the corresponding entities as well as the nomenclature of this attribute. In this case, this corresponds to a list of the entity. The *respective part* will be modeled to the corresponding *buffer space*. Note that the entity should not be confused with the Entity Type. For the employee, there is an ActiveMovingResource, which is described with the nomenclature \"amr.\" For the storage, the entity *employee* will therefore be modeled as *\"staff_amr\"*.\n",
    "\n"
   ]
  },
  {
   "cell_type": "code",
   "execution_count": 2,
   "id": "0ee2401c-b011-4bed-9db6-171a762c79d2",
   "metadata": {},
   "outputs": [
    {
     "name": "stderr",
     "output_type": "stream",
     "text": [
      "/home/rio/PycharmProjects/pythonProject/TutorialOFacT/code/tutorial_handling.py:15: SettingWithCopyWarning: \n",
      "A value is trying to be set on a copy of a slice from a DataFrame\n",
      "\n",
      "See the caveats in the documentation: https://pandas.pydata.org/pandas-docs/stable/user_guide/indexing.html#returning-a-view-versus-a-copy\n",
      "  df_description.fillna(\"\", inplace=True)\n"
     ]
    },
    {
     "data": {
      "application/vnd.jupyter.widget-view+json": {
       "model_id": "7a11d831b07243e0b6c74bd5cd64e4cc",
       "version_major": 2,
       "version_minor": 0
      },
      "text/plain": [
       "VBox(children=(DataGrid(auto_fit_params={'area': 'all', 'padding': 30, 'numCols': None}, base_column_size=100,…"
      ]
     },
     "metadata": {},
     "output_type": "display_data"
    },
    {
     "data": {
      "application/vnd.jupyter.widget-view+json": {
       "model_id": "6890d55f5644407c85185fae7442d755",
       "version_major": 2,
       "version_minor": 0
      },
      "text/plain": [
       "VBox(children=(HBox(children=(Button(description='Änderungen speichern', layout=Layout(width='200px'), style=B…"
      ]
     },
     "metadata": {},
     "output_type": "display_data"
    }
   ],
   "source": [
    "get_table(\"/models/twin/mini_model.xlsx\",\n",
    "          sheet_name=\"Storage\",\n",
    "          target_file=\"/01_modelling/storage_modeled.xlsx\")"
   ]
  },
  {
   "cell_type": "code",
   "execution_count": 14,
   "id": "aad8994d-af13-4242-99c4-2fad6faab435",
   "metadata": {},
   "outputs": [
    {
     "data": {
      "application/vnd.jupyter.widget-view+json": {
       "model_id": "f84bf4ba865c49c493b3b0ac6db835e0",
       "version_major": 2,
       "version_minor": 0
      },
      "text/plain": [
       "VBox(children=(DataGrid(auto_fit_params={'area': 'all', 'padding': 30, 'numCols': None}, base_column_size=150,…"
      ]
     },
     "metadata": {},
     "output_type": "display_data"
    }
   ],
   "source": [
    "get_solution(\"/models/twin/mini_model.xlsx\",\n",
    "             sheet_name=\"Storage\")"
   ]
  },
  {
   "cell_type": "markdown",
   "id": "beafc16c-43f4-4279-8f29-7da5dde5a8e6",
   "metadata": {},
   "source": [
    "### Resource: Workstation\n",
    "\n",
    "The workstation can equally to the warehouse also hold different entity types (buffer stations). However, workstations have differed in their resource purpose, since they are used to process parts or resources (entities), which is not the inherent aim of the warehouses.\n",
    "\n",
    "#### Label\n",
    "The workstation is presented in the form of a packaging station. The packaging station has already been mentioned in the Storage class. For this reason, the exact content from the Storage class must be adopted. In this case, the label is: *Packaging_station_ws*\n",
    "\n",
    "#### Name\n",
    "The attribute name is required also, the logic is known.\n",
    "\n",
    "#### Entity type\n",
    "The Entity Type must be modeled as well. The Entity Type has already been modeled and must be adopted from the previous notebook \"Entity Type\". In this example, it is *Packaging_station_et*\n",
    "\n",
    "#### Process exceustion plan\n",
    "The packaging station also requires a process execution plan (Pep). This is necessary to consider the availability of the resource working at the packaging station, which in this case is the employee. This Pep was previously modeled in the Storage class. There, the Pep for the employee is specified as *assembly_worker_pep*, which must be adopted exactly.\n",
    "\n",
    "#### Plant\n",
    "Attribute is mendatory\n",
    "\n",
    "#### Position, length and width\n",
    "The position is at the X and Y coordinates of *100 and 50*. Both length and width are *5*."
   ]
  },
  {
   "cell_type": "code",
   "execution_count": 10,
   "id": "815b903a-30c4-4057-a3cd-babdb145f0cb",
   "metadata": {},
   "outputs": [
    {
     "name": "stderr",
     "output_type": "stream",
     "text": [
      "/home/rio/PycharmProjects/pythonProject/TutorialOFacT/code/tutorial_handling.py:15: SettingWithCopyWarning: \n",
      "A value is trying to be set on a copy of a slice from a DataFrame\n",
      "\n",
      "See the caveats in the documentation: https://pandas.pydata.org/pandas-docs/stable/user_guide/indexing.html#returning-a-view-versus-a-copy\n",
      "  df_description.fillna(\"\", inplace=True)\n"
     ]
    },
    {
     "data": {
      "application/vnd.jupyter.widget-view+json": {
       "model_id": "3b5c2aed201a41ba859e2ed973527ae7",
       "version_major": 2,
       "version_minor": 0
      },
      "text/plain": [
       "VBox(children=(DataGrid(auto_fit_params={'area': 'all', 'padding': 30, 'numCols': None}, base_column_size=100,…"
      ]
     },
     "metadata": {},
     "output_type": "display_data"
    },
    {
     "data": {
      "application/vnd.jupyter.widget-view+json": {
       "model_id": "88e94b8558be438fabe20cd41f80d35a",
       "version_major": 2,
       "version_minor": 0
      },
      "text/plain": [
       "VBox(children=(HBox(children=(Button(description='Änderungen speichern', layout=Layout(width='200px'), style=B…"
      ]
     },
     "metadata": {},
     "output_type": "display_data"
    }
   ],
   "source": [
    "get_table(\"/models/twin/mini_model.xlsx\",\n",
    "          sheet_name=\"WorkStation\",\n",
    "          target_file=\"/01_modelling/work_station_modeled.xlsx\")"
   ]
  },
  {
   "cell_type": "code",
   "execution_count": 11,
   "id": "32c43082-0de5-4a03-9c75-0beded4d9d12",
   "metadata": {},
   "outputs": [
    {
     "data": {
      "application/vnd.jupyter.widget-view+json": {
       "model_id": "baddd7768e5742f09c627406389a267a",
       "version_major": 2,
       "version_minor": 0
      },
      "text/plain": [
       "VBox(children=(DataGrid(auto_fit_params={'area': 'all', 'padding': 30, 'numCols': None}, base_column_size=150,…"
      ]
     },
     "metadata": {},
     "output_type": "display_data"
    }
   ],
   "source": [
    "get_solution(\"/models/twin/mini_model.xlsx\",\n",
    "             sheet_name=\"WorkStation\")"
   ]
  },
  {
   "cell_type": "markdown",
   "id": "53cf37db-d23d-4d7a-bf1d-711150d30f49",
   "metadata": {},
   "source": [
    "### Active moving resource (AMR)\n",
    "AMR are resources that can move independently. These can be employees or even ground vehicles.\n",
    "\n",
    "#### Label \n",
    "In the example of the board game factory, the employee is present as an Active Moving Resource (AMR). This was made clear by the decision tree. First, the label must be modeled. This label has already been mentioned. The AMR was mentioned in the Storage section. It will be modeled as *staff_amr*.\n",
    "\n",
    "#### Name\n",
    "You know how it works...\n",
    "\n",
    "#### Entity type\n",
    "This Entity Type was described in a previously section...\n",
    "\n",
    "#### Process execution plan\n",
    "The Pep is: *staff_pep*. This is needed to link the AMR with the personnel operation plan.\n",
    "\n",
    "#### Plant\n",
    "You know how it works...\n",
    "\n",
    "#### Postion, length and width\n",
    "The position is at the X and Y coordinates of *100 and 50*. Both length and width are *1*.\n",
    "\n",
    "#### Situated in\n",
    "The employees have already been modeled as storage. This is necessary to determine the number of employees working at the workstation. Therefore, this attribute will be set to *Assembly_station_worker_storage_s*.\n"
   ]
  },
  {
   "cell_type": "code",
   "execution_count": 12,
   "id": "44074c9e-19b8-421b-9e2c-3c341104fdf2",
   "metadata": {},
   "outputs": [
    {
     "name": "stderr",
     "output_type": "stream",
     "text": [
      "/home/rio/PycharmProjects/pythonProject/TutorialOFacT/code/tutorial_handling.py:15: SettingWithCopyWarning: \n",
      "A value is trying to be set on a copy of a slice from a DataFrame\n",
      "\n",
      "See the caveats in the documentation: https://pandas.pydata.org/pandas-docs/stable/user_guide/indexing.html#returning-a-view-versus-a-copy\n",
      "  df_description.fillna(\"\", inplace=True)\n"
     ]
    },
    {
     "data": {
      "application/vnd.jupyter.widget-view+json": {
       "model_id": "9f63133402f44cf5882aab71b6ea9b4f",
       "version_major": 2,
       "version_minor": 0
      },
      "text/plain": [
       "VBox(children=(DataGrid(auto_fit_params={'area': 'all', 'padding': 30, 'numCols': None}, base_column_size=100,…"
      ]
     },
     "metadata": {},
     "output_type": "display_data"
    },
    {
     "data": {
      "application/vnd.jupyter.widget-view+json": {
       "model_id": "a9a826df975743d4b5c0d13513135e15",
       "version_major": 2,
       "version_minor": 0
      },
      "text/plain": [
       "VBox(children=(HBox(children=(Button(description='Änderungen speichern', layout=Layout(width='200px'), style=B…"
      ]
     },
     "metadata": {},
     "output_type": "display_data"
    }
   ],
   "source": [
    "get_table(\"/models/twin/mini_model.xlsx\",\n",
    "          sheet_name=\"ActiveMovingResource\",\n",
    "          target_file=\"/01_modelling/active_moving_resource_modeled.xlsx\")"
   ]
  },
  {
   "cell_type": "code",
   "execution_count": 13,
   "id": "96e05c69-6c96-4910-9e8f-8d29702d56c6",
   "metadata": {},
   "outputs": [
    {
     "data": {
      "application/vnd.jupyter.widget-view+json": {
       "model_id": "dda283f457bb4e9b9e29158903eebe7a",
       "version_major": 2,
       "version_minor": 0
      },
      "text/plain": [
       "VBox(children=(DataGrid(auto_fit_params={'area': 'all', 'padding': 30, 'numCols': None}, base_column_size=150,…"
      ]
     },
     "metadata": {},
     "output_type": "display_data"
    }
   ],
   "source": [
    "get_solution(\"/models/twin/mini_model.xlsx\",\n",
    "             sheet_name=\"ActiveMovingResource\")"
   ]
  }
 ],
 "metadata": {
  "kernelspec": {
   "display_name": "Python 3 (ipykernel)",
   "language": "python",
   "name": "python3"
  },
  "language_info": {
   "codemirror_mode": {
    "name": "ipython",
    "version": 3
   },
   "file_extension": ".py",
   "mimetype": "text/x-python",
   "name": "python",
   "nbconvert_exporter": "python",
   "pygments_lexer": "ipython3",
   "version": "3.10.13"
  }
 },
 "nbformat": 4,
 "nbformat_minor": 5
}
