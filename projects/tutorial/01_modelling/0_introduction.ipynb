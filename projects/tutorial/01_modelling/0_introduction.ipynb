{
 "cells": [
  {
   "metadata": {},
   "cell_type": "markdown",
   "source": "# Modeling",
   "id": "6bcc17936205ef52"
  },
  {
   "metadata": {},
   "cell_type": "markdown",
   "source": "## Introduction to the whole picture",
   "id": "86c9064fcb0a4eed"
  },
  {
   "metadata": {},
   "cell_type": "markdown",
   "source": "In the first part, we introduce the modelling of the static state model using Excel. As you can see in the picture below, the Excel based modelling is classified as manual creation. So the effort would be high, but you can learn a lot about the modelling, which would help you for the more advanced approaches.",
   "id": "235339ae6771eb76"
  },
  {
   "metadata": {},
   "cell_type": "markdown",
   "source": "<img src=\"../docs/assets/imgs/modelling_variants.png\" alt=\"Modelling Variants\" width=\"600\" align=\"center\">",
   "id": "717e1a1f3ed12bca"
  },
  {
   "metadata": {},
   "cell_type": "markdown",
   "source": "## Introduction to the board game factory as first use case",
   "id": "62428fc83c21b0d5"
  },
  {
   "cell_type": "markdown",
   "id": "7a056c0468258f1b",
   "metadata": {},
   "source": [
    "For this Open Factory Twin tutorial, we are using a simple and small system excerpt. We consider a boardgame production, where we produce a classical boardgame. This board game consists of a game board and game pieces, both of which are placed in (game) packaging. Finally, the packaging is sent to the customer with the corresponding contents.\n",
    "\n",
    "On this basis, we must think about how we model our customer orders. Customer orders describe in the digital twin which product is to be manufactured. For our example, this is the game packaging with contents.\n",
    "\n",
    "As we model our products from the business perspective (thought by the customer), we use characteristics for this. Ultimately, our product should be defined by its features. Later, we will translate these features into processes to be carried out, but we are not there yet. The characteristics are described in the sales area."
   ]
  },
  {
   "cell_type": "markdown",
   "id": "9e3c1c2e96af9f9d",
   "metadata": {},
   "source": [
    "### Workflow\n",
    "\n",
    "In this tutorial, you will model the following sequences, which are broadly summarized as:\n",
    "1. Sales\n",
    "2. Entity\n",
    "3. Part\n",
    "4. Entity Type\n",
    "5. Resources and Plant\n",
    "6. Time\n",
    "7. Processes\n",
    "8. Combination\n",
    "9. Sales generation\n",
    "\n",
    "In each class, the associated attributes and elements will be explained, and you will be shown hands-on how to model board game production.\n",
    "\n",
    "At the beginning, refer to the board game factory, which you can find in the upper right corner. This includes both the resources and the processes.\n",
    "Once you have a rough understanding of the board game factory, you can start with the modeling.  In addition, Customers were modeled as standard in this tutorial.\n",
    "\n",
    "The tutorial starts with a brief introduction to the structure of the modeling. You can find the brief introduction below. After the introduction you can start the modelling part, which is structed by the sqeuence.\n",
    "\n",
    "Feel free to start the tutorial. Have fun!"
   ]
  },
  {
   "metadata": {},
   "cell_type": "markdown",
   "source": "![Example Factory](../docs/assets/imgs/factory.png)",
   "id": "f4590733c7b10262"
  },
  {
   "metadata": {},
   "cell_type": "markdown",
   "source": [
    "Before we start, some general notes to model advanced elements used in the Excel modeling which enable the correct interpretation of the data by the system:\n",
    "\n",
    "| Type                  | Handling description                                                                                                        |\n",
    "|-----------------------|-----------------------------------------------------------------------------------------------------------------------------|\n",
    "| List                  | `[\"Packaging_station_et\", \"Packaging_station_et\"]` (the '\"' and the '' next to a '\"' are important)                         |\n",
    "| List of Tuples       | `[(\"packing_station_et\", \"packing_station_et\", ), (\"Packaging_station_et\", \"Packaging_station_et\", )]` (the '\"' and the ''' next to a '\"' are important) |\n",
    "| Dict                  | `{\"Packaging_station_et\": 1, \"Packaging_station1_et\": 2}` (similar to the list, both the '\"' and the ' ' next to a key-value pair are important) |\n",
    "| Datetime Tuple        | `(2022, 6, 27, 12, 0)` - (year, month, day, hour, minute, second) - leading zeros are not allowed                          |\n",
    "| Class Str             | `NormalDistribution(1)` quick instantiation option for classes with fewer input parameters and no real meaning in terms of content (e.g. probability distributions with input parameters) |\n",
    "| Enum                  | `EntityTransformationNode.TransformationTypes.MAIN_ENTITY` (enum class or path and enum value/name)                        |"
   ],
   "id": "2acb23915c21607a"
  },
  {
   "metadata": {},
   "cell_type": "markdown",
   "source": [
    "# How is an Excel sheet structured?\n",
    "\n",
    "### Vertically (based on the areas of the picture below)\n",
    "**Header**: column name\n",
    "\n",
    "**Description**: Describes the column with a \"description\", \"notation\" example, \"example\" and states if the column is \"mandatory\" to set or not.\n",
    "\n",
    "**Modelling**: The modeling area, where the state model objects are specified.\n",
    "\n",
    "### Horizontally (based on the areas of the picture below)\n",
    "**Index**: This column generally names the respective rows, allowing you to better orient yourself. In the rows, you will find the description, notation, or an example. At the same time, groupings of the characteristics of the respective class may also arise. You should pay attention to and follow these in order to model the model as effectively as possible.\u000BIn this class, they are: Feature Cluster and Feature.\n",
    "\n",
    "The \"**Label**\" column is used to name the respective elements in the class. The labels of the different classes vary in nomenclature, which is also described.\n",
    "\n",
    "**attributes**:\n",
    "There are some standard attributes that are mandatory for each object. These are the \"identification\" and the \"external_identifications\".\n",
    "For some objects (e.g., the parts) the attribute amount is used to model more than one object with the same properties."
   ],
   "id": "c9b413726d4a94ce"
  },
  {
   "cell_type": "markdown",
   "id": "ff6d67f5a5dc814c",
   "metadata": {},
   "source": "![Basic Structure](../docs/assets/imgs/basic_structure.png)"
  },
  {
   "cell_type": "markdown",
   "id": "e2880964-8a3a-4a5b-b357-18fa0c7a34c9",
   "metadata": {
    "ExecuteTime": {
     "end_time": "2025-01-20T13:31:01.266131Z",
     "start_time": "2025-01-20T13:31:01.262481Z"
    }
   },
   "source": [
    "## Next Step\n",
    "\n",
    "You can start with the first sequence **\"Sales\"**. Jump to the next notebook..."
   ]
  }
 ],
 "metadata": {
  "kernelspec": {
   "display_name": "Python 3 (ipykernel)",
   "language": "python",
   "name": "python3"
  },
  "language_info": {
   "codemirror_mode": {
    "name": "ipython",
    "version": 3
   },
   "file_extension": ".py",
   "mimetype": "text/x-python",
   "name": "python",
   "nbconvert_exporter": "python",
   "pygments_lexer": "ipython3",
   "version": "3.10.13"
  }
 },
 "nbformat": 4,
 "nbformat_minor": 5
}
