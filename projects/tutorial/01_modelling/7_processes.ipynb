{
 "cells": [
  {
   "cell_type": "code",
   "id": "initial_id",
   "metadata": {},
   "source": "from projects.tutorial.code.tutorial_handling import get_table, get_solution",
   "outputs": [],
   "execution_count": null
  },
  {
   "cell_type": "markdown",
   "id": "6e94d452-17e2-4294-8f22-c676a6e57175",
   "metadata": {},
   "source": [
    "## Processes\n",
    "\n",
    "In this section, value added processes and processes will be modelled, which includes models about lead times, quality, resources, transition and transformation and their relationship.\n",
    "\n",
    "#### Process\n",
    "Processes are categorized into standard Process(es) and  Value Added Process(es). Value Added Processes represent the features of the orders. Processes can be transport processes or transfer processes that used as supporting processes for the value stream.\n",
    "\n",
    "In the system description, there are three processes: retrieving material from the buffer, packaging, and placing the finished product at the pick-up station. The distinction between Value Added Process (VAP) and Process is made by considering the properties of the VAPs. If the process is required to process a feature from the sales area this can be an indicator to be a VAP. Addtional, it should be ensured that the order is completely processable in the simulation. In our example, there is one feature: Packaging_f. The packaging of the board game is thus the first VAP. At the same time, the delivery, described as placement at the pick-up station, is also a VAP, so this process should also be modeled as a VAP. The retrieval and movement of the material is known not to be a VAP. Here, the process can be modeled as a transfer process to describe that the material was moved from another location (buffer) to the workstation. The transport process is mostly used to describe the transportation of materials. However, in the modeling of the processes, it does not matter whether the processes are described as transport or transfer. This is primarily for better orientation.\n",
    "When modeling and distinguishing between VAP and process, the notation must be observed. The **VAPs** in this example are *Packaging_vap* and *Delivery_vap*. The **process** is described as *Transferprocess_Buffer_WS_p*. The latter part serves as orientation for the origin and destination of the transfer process, but it does not affect the modeling.\n",
    "\n",
    "The **name** can be used as already described.\n",
    "\n",
    "For the **controllers** of **Lead Time**, **Transition**, **Quality** and **Transformation**, as well as **Resource**, an attribute (controller) is modeled for each. The controllers differ only in the ***suffix***, which are mentioned in the description table. For the Lead Time controller, the suffix _ptc is used. The preceding part of the label remains for better orientation. For the Transition controller, the suffix _tsc is used. For the Quality controller, the suffix _qc is used. In this case, and for simplification, no ***quality*** restrictions are considered. The same name can be used in each field to simplify modeling. ***Consider the following description: no_issue_qc***. For the Transformation controller, the suffix _tfm is used. For the Resource controller, the suffix _rc is used. In some cases it is advisible to model the process models for each processes first and try to aggregate them if possible and reasonable.\n",
    "\n",
    "The **group** is used for the later KPI insights. For this tutorial the group can be modeled as *order_et*.\n",
    "\n",
    "The modeling of the **feature** is only required or VAPs: Since there is only one feature in the example, the same feature (*Packaging_f*) is entered for both VAPs.\n",
    "\n",
    "The **predecessors** will list the preceding VAPs and modeled as CNF (meaning of each tuple almost one process must be executed if a process of the tuple is required for the order). Only for the VAPs is the attribute predecessors needed. Since packaging occurs before delivery, an empty list with an empty tuple is modeled for packaging. This looks like “[()]”. For delivery, the VAP of packaging is specified: \"*[(‘Packaging_vap’)]\"*. If there are more than two VAPs, the list can contain multiple elements in the tuple.\n",
    "\n",
    "Only for the VAPs is the attribute **successors** needed. The successors are modeled in contrast to the predecessors as a simple list. The approach is identical. Here, all downstream processes are listed. In the modeling form, only the list is used. This is due to the process graph, so that multiple process sequences can be considered in the simulation logic. In the boardgamefactory, the *delivery vap* is the successors of the packaging vap.\n",
    "\n",
    "\n"
   ]
  },
  {
   "cell_type": "code",
   "id": "b0155189-3805-4eaa-bc05-9847f30e2b4d",
   "metadata": {},
   "source": [
    "get_table(\"/models/twin/mini_model.xlsx\",\n",
    "          sheet_name=\"Process\",\n",
    "          target_file=\"/01_modelling/process_modeled.xlsx\")"
   ],
   "outputs": [],
   "execution_count": null
  },
  {
   "cell_type": "code",
   "id": "3e365c35-d0ae-486d-acf0-3ef37be4a7cc",
   "metadata": {},
   "source": [
    "get_solution(\"/models/twin/mini_model.xlsx\",\n",
    "             sheet_name=\"Process\")"
   ],
   "outputs": [],
   "execution_count": null
  },
  {
   "cell_type": "markdown",
   "id": "2917a2b1-4724-4fd5-8a1a-53c958539ca4",
   "metadata": {},
   "source": [
    "#### Process controllers\n",
    "\n",
    "The class serves to link the process controller and its process models. In the \"Process\" class, all process controllers have been modeled already.\n",
    "\n",
    "The Process Controller are now written into the **label**. Please pay attention to the index column. This provides guidance on where each process controller should go. If controllers occur more than once, it is sufficient to model them only once. In this example, this is the case for Quality.\n",
    "\n",
    "The respective **process models (resource, process time, transition, transformation and quality)** are exclusively modeled for their associated controllers. This means that the attribute resource model is only modeled for the resource controllers, and the process time model is only for the process time controllers. Only the notation, that is, the *suffix*, is changed. This ensures more accurate modeling.\n",
    "\n"
   ]
  },
  {
   "cell_type": "code",
   "id": "ccee7a43-0893-43ae-be23-afb95da35bd7",
   "metadata": {},
   "source": [
    "get_table(\"/models/twin/mini_model.xlsx\",\n",
    "          sheet_name=\"ProcessController\",\n",
    "          target_file=\"/01_modelling/process_controller_modeled.xlsx\")"
   ],
   "outputs": [],
   "execution_count": null
  },
  {
   "cell_type": "code",
   "id": "60b54b4a-a210-4564-8e25-e1f8e27c0dc7",
   "metadata": {},
   "source": [
    "get_solution(\"/models/twin/mini_model.xlsx\",\n",
    "             sheet_name=\"ProcessController\")"
   ],
   "outputs": [],
   "execution_count": null
  },
  {
   "cell_type": "markdown",
   "id": "80a2e784-8c90-4543-abf7-ba063d88ac41",
   "metadata": {},
   "source": [
    "#### Process Time Model\n",
    "\n",
    "The first process model (**Process Time**) indicates the processing time of the processes. Two distributions can be chosen: SimpleNormalDistributedProcessTimeModel and SimpleSingleValueDistributedProcessTimeModel. For more information about the distributions, please refer to the manual. As with the processes, categorization is based on the index\n",
    "\n",
    "In the **label**, all process time models are listed. Also, note the classification and the index of the distributions. This facilitates the modeling of the distribution values. In this example, *packaging* is *normally distributed* while the *other two processes* are modeled as *single value* (distribution). \n",
    "\n",
    "The attribute **value** is the only parameter for the SimpleSingleValueDistributedProcessTimeModel. The samples of the distribution have always this value. For *delivery*, we assume that the process always takes *10*. For the *transfer process*, it takes *3*. In general the unit in the simulation is \"second\".\n",
    "\n",
    "**Mue** and **sigma** are the parameters for the normal distribution. The packaging process has a *mue value of 20 and a sigma of 5*.\n"
   ]
  },
  {
   "cell_type": "code",
   "id": "d43ae828-b224-426c-bcf3-3096b0cd3a02",
   "metadata": {},
   "source": [
    "get_table(\"/models/twin/mini_model.xlsx\",\n",
    "          sheet_name=\"ProcessTimeModel\",\n",
    "          target_file=\"/01_modelling/process_time_model_modeled.xlsx\")"
   ],
   "outputs": [],
   "execution_count": null
  },
  {
   "cell_type": "code",
   "id": "51a04097-70b9-4c6c-9422-e8a6d41499e2",
   "metadata": {},
   "source": [
    "get_solution(\"/models/twin/mini_model.xlsx\",\n",
    "             sheet_name=\"ProcessTimeModel\")"
   ],
   "outputs": [],
   "execution_count": null
  },
  {
   "cell_type": "markdown",
   "id": "90c68e72-49bd-47a0-9fa8-5a1af2706f76",
   "metadata": {},
   "source": [
    "#### Quality Model\n",
    "\n",
    "Since the model has only one Quality Model and there are no quality issues assumed, the probability is described as 1. This means that the probability of defective products is 0 (1-p).\n",
    "\n",
    "Name (**label**) of the quality Model from the Process Controller: *no_issue_qm* and **probability**:*1*\n",
    "\n"
   ]
  },
  {
   "cell_type": "code",
   "id": "a0e2cd8b-058a-4afc-94e3-b380426ded3f",
   "metadata": {},
   "source": [
    "get_table(\"/models/twin/mini_model.xlsx\",\n",
    "          sheet_name=\"QualityModel\",\n",
    "          target_file=\"/01_modelling/quality_model_modeled.xlsx\")"
   ],
   "outputs": [],
   "execution_count": null
  },
  {
   "cell_type": "code",
   "id": "006b3cf0-8024-4aea-b624-7e2fe0addf82",
   "metadata": {},
   "source": [
    "get_solution(\"/models/twin/mini_model.xlsx\",\n",
    "             sheet_name=\"QualityModel\")"
   ],
   "outputs": [],
   "execution_count": null
  },
  {
   "cell_type": "markdown",
   "id": "c7be9299-f4f1-4606-95e3-45b0e8276385",
   "metadata": {},
   "source": [
    "#### Resource Model\n",
    "\n",
    "The resource model is categorized by Resource Model and Resource Group. The variations differ only in the suffixes to simplify the assignment/modeling. \n",
    "- ResourceModel: holds different resource groups that can be used to execute a process\n",
    "- ResourceGroup: one resource group specify one option of the resource types required to execute a process\n",
    "\n",
    "For the two categories of the resource model, each process (*Packaging, Delivery and Transferprocess_Buffer_WS*) must be modeled with the corresponding suffix as a **label**.\n",
    "\n",
    "**Resources** must be modeled, which are required for the process. For *Packaging_rg and Delivery_rg, the packaging station and the employee are involved*. For *Transferprocess_Buffer_WS_rg, the buffer, packaging station, and employee are involved*.\n",
    "\n",
    "The **main resource** is in our example the employee (*Staff_et*), as they take on the majority of the work. The main resource(s) is also modeled as a list."
   ]
  },
  {
   "cell_type": "code",
   "id": "dd655d2c-ae4c-4ffe-8343-0038de323c07",
   "metadata": {},
   "source": [
    "get_table(\"/models/twin/mini_model.xlsx\",\n",
    "          sheet_name=\"ResourceModel\",\n",
    "          target_file=\"/01_modelling/resource_model_modeled.xlsx\")"
   ],
   "outputs": [],
   "execution_count": null
  },
  {
   "cell_type": "code",
   "id": "5d7d9e46-d231-4774-9c21-d0b1ccd8b73c",
   "metadata": {},
   "source": [
    "get_solution(\"/models/twin/mini_model.xlsx\",\n",
    "             sheet_name=\"ResourceModel\")"
   ],
   "outputs": [],
   "execution_count": null
  },
  {
   "cell_type": "markdown",
   "id": "ab2efd9d-c7a4-4229-9b7e-3ec0d100e096",
   "metadata": {},
   "source": [
    "#### Transition Model\n",
    "\n",
    "The transition describes the changes in spatial position and resource allocation. For this, all possible_origins and possible_destinations of the processes are described.\n",
    "\n",
    "The transition models(**label**) can be taken from the *process controller class*.\n",
    "\n",
    "The **possible origins** are described as a list of resources. For both processes *packaging and delivery*, it is well-known that they start at the *packaging station*. Therefore, the packaging station is represented as a workstation and modeled as a list.\n",
    "The transfer process starts at the individual buffer locations, so each material buffer location is modeled: \n",
    "- *Assembly_station_board_storage_s*\n",
    "- *Assembly_station_pieces_storage_s*\n",
    "- *Assembly_station_box_storage_s*\n",
    "\n",
    "The **possible destinations** are also modeled as a list of resources. Since the delivery point is not considered in this example, the possible destinations of the *delivery* process are modeled as an *empty list*: []\n",
    "The remaining processes, especially the transfer process end at the packaging station. In the *packaging* process, the *packaging station* is also modeled as a possible destination, as the ValueAddedProcess also ends there. The resource is again modeled as follows: *[“Packaging_station_ws”]*.\n",
    "\n"
   ]
  },
  {
   "cell_type": "code",
   "id": "b508cce0-5fe0-41fe-9d2d-aa01cbaf0f6e",
   "metadata": {},
   "source": [
    "get_table(\"/models/twin/mini_model.xlsx\",\n",
    "          sheet_name=\"TransitionModel\",\n",
    "          target_file=\"/01_modelling/transition_model_modeled.xlsx\")"
   ],
   "outputs": [],
   "execution_count": null
  },
  {
   "cell_type": "code",
   "id": "db0ca6ba-7a2c-4670-bb42-75c9b5bb0011",
   "metadata": {},
   "source": [
    "get_solution(\"/models/twin/mini_model.xlsx\",\n",
    "             sheet_name=\"TransitionModel\")"
   ],
   "outputs": [],
   "execution_count": null
  },
  {
   "metadata": {},
   "cell_type": "markdown",
   "source": [
    "#### Transformation Model\n",
    "\n",
    "The transformation model describes how entities are transformed within the process. To describe the transformation, a directed acyclic graph (DAG) is designed based on entity transformation nodes. Since every entity transformation node contains parent and children’s nodes, the relations within the graph are described decentralized. The root nodes of the graph are stored in the transformation model Each entity transformation node contains mainly the type of the entity and the amount needed that will be transformed in the children nodes.\n",
    "\n",
    "Hence, the entity types required for the transformation can be derived through iterating over the root nodes of the transformation model. Next to the entity types, the transformation type and the input output behavior of the entity transformation nodes describe how the entities are transformed. These are based on the manufacturing processes defined in DIN 8580:\n",
    "\n",
    "Primary Processing Operations\n",
    "- Shaping Operations\n",
    "- Property Operations\n",
    "- Surface Operations\n",
    "Secondary Assembly Operations\n",
    "- Permanent joining Operations\n",
    "- Fastening Operations\n",
    "\n",
    "\n",
    "The input output behavior differentiates between:\n",
    "- EXIST: Part is neither created nor destroyed by the process it has to exist before and still exists at the end\n",
    "- CREATED: Part is created in the process\n",
    "- DESTROYED: Part is destroyed at the end of the process (e.g., scrap bad quality, parts with no further tracking)\n",
    "\n",
    "The transformation type differentiates between:\n",
    "- MAIN_ENTITY: Necessary to start the process if not created. Part leaves the process unchanged or extended\n",
    "- BLANK: Necessary to start the process if not created. Part is transformed/ processed. The entity type is changed, but the attributes remain untouched (no further parts attached) (e.g., bending)\n",
    "- SUB_PART: Necessary to start the process if not created.\n",
    "- PART: is built into the main_entity and can be taken apart later (e.g., assembly, packing)\n",
    "- INGREDIENT: Necessary to start the process if not created. Part ist transformed into or combined with the main entity. Cannot be removed later (e.g., surface coating)\n",
    "- DISASSEMBLE: SubParts can be disassembled in the children nodes.\n",
    "- SUPPORT: Necessary to marry (NonStationaryResource and Parts) or (NonStationaryResource and NonStationaryResource). The marriage is needed to create a (longer) connection, for example, for transport. E.g.: AGV and main_product (can be identified if the SUPPORT is also found in the successor processes) or Bin and screws.\n",
    "- UNSUPPORT: cancel/ undo the SUPPORT transformation.\n",
    "\n",
    "\n",
    "#### Modeling the transformation model\n",
    "\n",
    "Label:\n",
    "\n",
    "Each transformation model, holds the **root nodes** of the transformation graph. The root nodes state the required entities to execute the transformation. They are modelled as list of entity transformation nodes."
   ],
   "id": "eec9025b26b0b2e7"
  },
  {
   "metadata": {},
   "cell_type": "code",
   "source": [
    "get_table(\"/models/twin/mini_model.xlsx\",\n",
    "          sheet_name=\"TransformationModel\",\n",
    "          target_file=\"/01_modelling/transformation_model_modeled.xlsx\")"
   ],
   "id": "af78f087c1f14137",
   "outputs": [],
   "execution_count": null
  },
  {
   "metadata": {},
   "cell_type": "code",
   "source": [
    "get_solution(\"/models/twin/mini_model.xlsx\",\n",
    "             sheet_name=\"TransformationModel\")"
   ],
   "id": "f7a949c37c9d22bd",
   "outputs": [],
   "execution_count": null
  }
 ],
 "metadata": {
  "kernelspec": {
   "display_name": "Python 3 (ipykernel)",
   "language": "python",
   "name": "python3"
  },
  "language_info": {
   "codemirror_mode": {
    "name": "ipython",
    "version": 3
   },
   "file_extension": ".py",
   "mimetype": "text/x-python",
   "name": "python",
   "nbconvert_exporter": "python",
   "pygments_lexer": "ipython3",
   "version": "3.10.13"
  }
 },
 "nbformat": 4,
 "nbformat_minor": 5
}
