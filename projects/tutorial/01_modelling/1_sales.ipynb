{
 "cells": [
  {
   "cell_type": "code",
   "id": "initial_id",
   "metadata": {
    "ExecuteTime": {
     "end_time": "2025-03-28T13:07:22.895104Z",
     "start_time": "2025-03-28T13:07:22.348019Z"
    }
   },
   "source": "from projects.tutorial.code.tutorial_handling import get_table, get_solution",
   "outputs": [],
   "execution_count": 1
  },
  {
   "cell_type": "markdown",
   "id": "1b7703bf118411c5",
   "metadata": {},
   "source": [
    "## The sales area\n",
    "\n",
    "In the board game factory, a board game is sold without any specifications.\n",
    "\n",
    "Based on the standardized product, only one feature cluster is required. In this case, please model the **label** of the feature cluster as *“Boardgame_fc”*. Only one feature belongs to this feature cluster, as only one product requirement is needed. This results from the composition of the board game from the three components that arise from the packaging.\n",
    "For this purpose, this feature **label** must be described as *“Packaging_f”*. When instantiating the feature cluster and feature, make sure to place the respective characteristics in the corresponding line. Use the first column, which is named index, as a guide.\"\n",
    "\n",
    "The **name** of the feature cluster is identically to the feature cluster, i.e. *“Boardgame”*. The feature is referred to as *“Standard”* because this is the only product requirements.\n",
    "\n",
    "The **product class** attribute is only required for feature clusters. All feature clusters of a product_class belong to one product. This assigns the feature cluster to the producing entity type. In this tutorial, the product is *“Gamebox_pa_et”*.\n",
    "\n",
    "The **selection of the probabilitydistribution**  is only required for the feature. As the “Packaging_f” feature is mandatory for every order, this is modeled as *“SingleValueDistribution(1)”*.\n",
    "\n",
    "The last attribute **feature cluster** is only required for the feature. The corresponding feature cluster is then *“Boardgame_fc”*.\n",
    "\n",
    "## Modeling of the sales area\n",
    "\n",
    "Let's start with the modeling of the sales area: Follow the instructions above and edit the second table. The first table is not editable and only shows the description. To display the two tables, start the function **\"get_table\"** in the next line.\n",
    "\n",
    "After you have modeled, you can display the solution by starting the **“get_solution”** function"
   ]
  },
  {
   "cell_type": "code",
   "id": "76244fd559724505",
   "metadata": {
    "ExecuteTime": {
     "end_time": "2025-03-28T13:07:23.317090Z",
     "start_time": "2025-03-28T13:07:22.913563Z"
    }
   },
   "source": [
    "get_table(\"/models/twin/mini_model.xlsx\",\n",
    "          sheet_name=\"Sales\",\n",
    "          target_file=\"/01_modelling/sales_modeled.xlsx\")"
   ],
   "outputs": [
    {
     "data": {
      "text/plain": [
       "VBox(children=(DataGrid(auto_fit_params={'area': 'all', 'padding': 30, 'numCols': None}, base_column_size=100,…"
      ],
      "application/vnd.jupyter.widget-view+json": {
       "version_major": 2,
       "version_minor": 0,
       "model_id": "34e0a56827ed4c69b24411a8470a9026"
      }
     },
     "metadata": {},
     "output_type": "display_data"
    },
    {
     "data": {
      "text/plain": [
       "VBox(children=(HBox(children=(IntText(value=0, description='Row index:', layout=Layout(width='200px')), Button…"
      ],
      "application/vnd.jupyter.widget-view+json": {
       "version_major": 2,
       "version_minor": 0,
       "model_id": "3e913dabc04d4bff9565aaefc3942a7b"
      }
     },
     "metadata": {},
     "output_type": "display_data"
    }
   ],
   "execution_count": 2
  },
  {
   "cell_type": "code",
   "id": "51e8f887-bd71-40f5-a587-e5c4c978d631",
   "metadata": {
    "ExecuteTime": {
     "end_time": "2025-03-25T18:41:11.124018Z",
     "start_time": "2025-03-25T18:41:11.043951Z"
    }
   },
   "source": [
    "get_solution(\"/models/twin/mini_model.xlsx\",\n",
    "             sheet_name=\"Sales\")"
   ],
   "outputs": [
    {
     "data": {
      "text/plain": [
       "VBox(children=(DataGrid(auto_fit_params={'area': 'all', 'padding': 30, 'numCols': None}, base_column_size=150,…"
      ],
      "application/vnd.jupyter.widget-view+json": {
       "version_major": 2,
       "version_minor": 0,
       "model_id": "0101ed4c403141d5934c01efd26bd12a"
      }
     },
     "metadata": {},
     "output_type": "display_data"
    }
   ],
   "execution_count": 6
  },
  {
   "metadata": {},
   "cell_type": "markdown",
   "source": [
    "## Customers\n",
    "\n",
    "Next to the features and feature clusters, the customers are modeled. Customers have their own sheet in the Excel file. The customer object is of particular interest in simulation if control rules are to be implemented that depend on the customer object.\n",
    "However, for the first model, the object needs only a **pre_name** and a **last_name** (e.g. *\"Old\"*, *\"Henry\"*)."
   ],
   "id": "df73b740b39de19a"
  },
  {
   "metadata": {},
   "cell_type": "code",
   "outputs": [],
   "execution_count": null,
   "source": [
    "get_table(\"/models/twin/mini_model.xlsx\",\n",
    "          sheet_name=\"Customer\",\n",
    "          target_file=\"/01_modelling/customer_modeled.xlsx\")"
   ],
   "id": "aff92003f907b111"
  },
  {
   "metadata": {},
   "cell_type": "code",
   "outputs": [],
   "execution_count": null,
   "source": [
    "get_solution(\"/models/twin/mini_model.xlsx\",\n",
    "             sheet_name=\"Customer\")"
   ],
   "id": "5efc59baf47416eb"
  },
  {
   "metadata": {},
   "cell_type": "markdown",
   "source": [
    "## Orders\n",
    "\n",
    "Based on the features and feature clusters as well as the customers, orders can be modeled.\n",
    "Therefore, each order has a **customer**, a **product_class** (part type that describes the product to be delivered) and the features chosen (*features_requested*).\n",
    "Additionally, initially known order trace timestamps are added. For now, only the **order_date**, **delivery_date_planned** are known and therefore required.\n",
    "The **delivery_date_planned** can be used in the simulation for an order-based control.\n",
    "\n",
    "Since the feature selection has a different behavior than the other elements, no table is provided.\n",
    "The feature selection is based on a matrix approach. Therefore, the **features_requested** are listed as header and if a feature is selected by setting a value of 1, otherwise 0. Since we only have one feature and the feature is mandatory, each order has a value of 1 in the *packaging_f* column.\n",
    "However, the other parameters can be set as already shown in the previous steps. You can look up the example in the \"/models/twin/mini_model.xlsx\".\n",
    "\n",
    "As you will see in part \"09_sales_generation\", the orders can be also generated automatically."
   ],
   "id": "f91be45fbee62fa6"
  },
  {
   "cell_type": "markdown",
   "id": "b4cd4408-0fa5-4120-97d9-adfba837bfa6",
   "metadata": {},
   "source": [
    "## Next Step\n",
    "\n",
    "Jump to the next sequence **\"Entity\"**."
   ]
  }
 ],
 "metadata": {
  "kernelspec": {
   "display_name": "Python 3 (ipykernel)",
   "language": "python",
   "name": "python3"
  },
  "language_info": {
   "codemirror_mode": {
    "name": "ipython",
    "version": 3
   },
   "file_extension": ".py",
   "mimetype": "text/x-python",
   "name": "python",
   "nbconvert_exporter": "python",
   "pygments_lexer": "ipython3",
   "version": "3.10.13"
  }
 },
 "nbformat": 4,
 "nbformat_minor": 5
}
