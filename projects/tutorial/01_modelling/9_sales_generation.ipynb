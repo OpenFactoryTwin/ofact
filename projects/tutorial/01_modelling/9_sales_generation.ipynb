{
 "cells": [
  {
   "metadata": {},
   "cell_type": "markdown",
   "source": "# Sales generation",
   "id": "808ce6ae356791ec"
  },
  {
   "metadata": {},
   "cell_type": "markdown",
   "source": [
    "In the first part of the modeling process, we have already modeled the sales objects of the digital twin. Specifically, the features and the feature clusters. Both serve as a basis for modeling the orders (/order pool) needed to describe the demand side processed in the simulation.\n",
    "\n",
    "The orders can be modeled in the Excel file (shown in part \"01_sales\") or generated automatically by the sales generator. The same is true for the customers.\n",
    "This can be done with the following code:\n",
    "```\n",
    "state_model_generation_settings = {\"order_generation_from_excel\": False,\n",
    "                                   \"customer_generation_from_excel\": True,\n",
    "                                   \"customer_amount\": 5,\n",
    "                                   \"order_amount\": 20,\n",
    "                                   \"order_type\": OrderType.PRODUCT_CONFIGURATOR}\n",
    "```\n",
    "The first two parameters \"order_generation_from_excel\" and \"customer_generation_from_excel\" state if the order pool is built up by the generator or the modeled orders/customers loaded from Excel. If you choose the generation method (e.g., \"order_generation_from_excel\": True), you have to how many orders/customers you want to generate. In addition, you have to specify the order type. Currently two different order types are available:\n",
    "- `OrderType.PRODUCT_CONFIGURATOR`: from each feature cluster a single feature is selected\n",
    "- `OrderType.SHOPPING_BASKET`: from each feature cluster zero or more features are selected"
   ],
   "id": "49df3a4347942ec7"
  },
  {
   "metadata": {
    "ExecuteTime": {
     "end_time": "2025-03-25T19:48:19.995560Z",
     "start_time": "2025-03-25T19:48:19.989842Z"
    }
   },
   "cell_type": "code",
   "source": [
    "from pathlib import Path\n",
    "\n",
    "from ofact.planning_services.model_generation.persistence import deserialize_state_model\n",
    "from ofact.twin.repository_services.deserialization.order_types import OrderType\n",
    "\n",
    "from projects.tutorial.settings import PROJECT_PATH"
   ],
   "id": "f560f7f5b5f0ebd1",
   "outputs": [],
   "execution_count": 8
  },
  {
   "cell_type": "code",
   "id": "initial_id",
   "metadata": {
    "collapsed": true,
    "ExecuteTime": {
     "end_time": "2025-03-25T19:48:23.147336Z",
     "start_time": "2025-03-25T19:48:21.663753Z"
    }
   },
   "source": [
    "path_to_model=\"models/twin/\"\n",
    "state_model_file_name = \"mini_model.xlsx\"\n",
    "\n",
    "state_model_file_path = Path(str(PROJECT_PATH), path_to_model + state_model_file_name)\n",
    "state_model_generation_settings = {\"order_generation_from_excel\": False,\n",
    "                                   \"customer_generation_from_excel\": True,\n",
    "                                   \"customer_amount\": 5,\n",
    "                                   \"order_amount\": 20,\n",
    "                                   \"order_type\": OrderType.PRODUCT_CONFIGURATOR}\n",
    "state_model = deserialize_state_model(state_model_file_path, persistence_format=\"xlsx\",\n",
    "                                      state_model_generation_settings=state_model_generation_settings)"
   ],
   "outputs": [
    {
     "name": "stdout",
     "output_type": "stream",
     "text": [
      "[2025-03-25 20:48:21.665750] Start deserialization from excel file C:\\Users\\afreiter\\PycharmProjects\\ofact-intern\\projects\\tutorial\\models\\twin\\mini_model.xlsx\n",
      "[2025-03-25 20:48:22.323991] Static state model deserialization from excel file C:\\Users\\afreiter\\PycharmProjects\\ofact-intern\\projects\\tutorial\\models\\twin\\mini_model.xlsx finished.\n",
      "2025-03-25 20:48:23.143928 State Model Serialization finished.\n"
     ]
    }
   ],
   "execution_count": 9
  },
  {
   "metadata": {},
   "cell_type": "code",
   "outputs": [],
   "execution_count": null,
   "source": "",
   "id": "b2450fcedd0227bc"
  }
 ],
 "metadata": {
  "kernelspec": {
   "display_name": "Python 3",
   "language": "python",
   "name": "python3"
  },
  "language_info": {
   "codemirror_mode": {
    "name": "ipython",
    "version": 2
   },
   "file_extension": ".py",
   "mimetype": "text/x-python",
   "name": "python",
   "nbconvert_exporter": "python",
   "pygments_lexer": "ipython2",
   "version": "2.7.6"
  }
 },
 "nbformat": 4,
 "nbformat_minor": 5
}
