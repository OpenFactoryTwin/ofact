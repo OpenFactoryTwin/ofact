{
 "cells": [
  {
   "cell_type": "code",
   "id": "initial_id",
   "metadata": {
    "ExecuteTime": {
     "end_time": "2025-01-31T16:30:25.978387Z",
     "start_time": "2025-01-31T16:30:25.433241Z"
    }
   },
   "source": "from projects.tutorial.code.tutorial_handling import get_table, get_solution",
   "outputs": [],
   "execution_count": 2
  },
  {
   "cell_type": "markdown",
   "id": "3c3d1ecf-6841-4d5a-aa2b-fec1772607fc",
   "metadata": {},
   "source": [
    "## The part area\n",
    "\n",
    "The board game consists of three parts, which are packaged at the workstation. The three ***parts*** are called:\n",
    "- *Gamepieces*\n",
    "- *Gamebox*\n",
    "- *Gameboard*\n",
    "\n",
    "For the **label**, the three parts are displayed with the ending *“_pa”*. As an example: \"gamepices_pa\".\n",
    "\n",
    "The **name** of the three parts does not need to be changed.\n",
    "\n",
    "For the **entity type**, the parts are named with the ending *“_pa_et”*. As an example: the label of gamepieces looks like this “Gamepieces_pa” and for entity type as follows “Gamepieces_pa_et”. The two other parts are modeled using the same logic. \n",
    "\n",
    "In addition, the attribute **situated in** must be modeled. As mentioned in the description of the board game factory, the parts are pre-stored in different storages. The buffer/storage locations are modeled as Storage and look as follows: \n",
    "Part Situated in (Storage)\n",
    "- *Gamepieces: Assembly_station_pieces_storage_s*\n",
    "- *Gamebox: Assembly_station_box_storage_s*\n",
    "- *Gameboard: Assembly_station_board_storage_s*\n",
    "\n",
    "## Modeling of the part area\n",
    "\n",
    "Let's start with the modeling of the part area: Follow the instructions above and edit the second table. The first table is not editable and only shows the description. To display the two tables, start the function **\"get_table\"** in the next line.\n",
    "\n",
    "After you have modeled, you can display the solution by starting the **“get_solution”** function"
   ]
  },
  {
   "cell_type": "code",
   "id": "59fabcc7-f269-4911-a702-32f4ef49ed67",
   "metadata": {
    "ExecuteTime": {
     "end_time": "2025-03-25T18:24:57.537975Z",
     "start_time": "2025-03-25T18:24:57.385798Z"
    }
   },
   "source": [
    "get_table(\"/models/twin/mini_model.xlsx\",\n",
    "          sheet_name=\"Part\",\n",
    "          target_file=\"/01_modelling/part_modeled.xlsx\")"
   ],
   "outputs": [
    {
     "ename": "NameError",
     "evalue": "name 'get_table' is not defined",
     "output_type": "error",
     "traceback": [
      "\u001B[1;31m---------------------------------------------------------------------------\u001B[0m",
      "\u001B[1;31mNameError\u001B[0m                                 Traceback (most recent call last)",
      "Cell \u001B[1;32mIn[1], line 1\u001B[0m\n\u001B[1;32m----> 1\u001B[0m \u001B[43mget_table\u001B[49m(\u001B[38;5;124m\"\u001B[39m\u001B[38;5;124m/models/twin/mini_model.xlsx\u001B[39m\u001B[38;5;124m\"\u001B[39m,\n\u001B[0;32m      2\u001B[0m           sheet_name\u001B[38;5;241m=\u001B[39m\u001B[38;5;124m\"\u001B[39m\u001B[38;5;124mPart\u001B[39m\u001B[38;5;124m\"\u001B[39m,\n\u001B[0;32m      3\u001B[0m           target_file\u001B[38;5;241m=\u001B[39m\u001B[38;5;124m\"\u001B[39m\u001B[38;5;124m/01_modelling/part_modeled.xlsx\u001B[39m\u001B[38;5;124m\"\u001B[39m)\n",
      "\u001B[1;31mNameError\u001B[0m: name 'get_table' is not defined"
     ]
    }
   ],
   "execution_count": 1
  },
  {
   "cell_type": "code",
   "execution_count": 3,
   "id": "fa0dc614-f2b7-48da-a927-b3af352f2c22",
   "metadata": {},
   "outputs": [
    {
     "data": {
      "application/vnd.jupyter.widget-view+json": {
       "model_id": "daf1c62881144a84a40623f360e41b7a",
       "version_major": 2,
       "version_minor": 0
      },
      "text/plain": [
       "VBox(children=(DataGrid(auto_fit_params={'area': 'all', 'padding': 30, 'numCols': None}, base_column_size=150,…"
      ]
     },
     "metadata": {},
     "output_type": "display_data"
    }
   ],
   "source": [
    "get_solution(\"/models/twin/mini_model.xlsx\",\n",
    "             sheet_name=\"Part\")"
   ]
  }
 ],
 "metadata": {
  "kernelspec": {
   "display_name": "Python 3 (ipykernel)",
   "language": "python",
   "name": "python3"
  },
  "language_info": {
   "codemirror_mode": {
    "name": "ipython",
    "version": 3
   },
   "file_extension": ".py",
   "mimetype": "text/x-python",
   "name": "python",
   "nbconvert_exporter": "python",
   "pygments_lexer": "ipython3",
   "version": "3.10.13"
  }
 },
 "nbformat": 4,
 "nbformat_minor": 5
}
