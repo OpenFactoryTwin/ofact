{
 "cells": [
  {
   "cell_type": "markdown",
   "id": "9316503171ce82da",
   "metadata": {},
   "source": [
    "# Data Integration\n",
    "\n",
    "Based on the modelling in the first part of the tutorial, you will now explore the data integration part of OFacT."
   ]
  },
  {
   "cell_type": "markdown",
   "id": "af17d87e1b15f42d",
   "metadata": {
    "jp-MarkdownHeadingCollapsed": true
   },
   "source": [
    "## *Static* State Model\n",
    "\n",
    "If you have skipped the modeling part, here a short introduction to the basic elements of the state model is provided:\n",
    "\n",
    "**Orders**, **Processes** and **Entities** are the central elements of the model.\n",
    "Requests from the customers are represented as (Sales) Orders. They define the demand side for the production.\n",
    "\n",
    "**Entities** (parts, resources) are used to fulfill the orders with the help of processes. The **parts** represent the physical product as well as his physical components. **Resources** are used to transform entities by executing processes. They are not consumed in contrast to the parts.\n",
    "\n",
    "The **Processes** describe the possible changes in the material flow system:\n",
    "- Transition: Spatial and logistical change (Transportation from A to B, Transfer from crate to pallet)\n",
    "- Transformation: Change of the entity (Part, Resource) due to the process (Part is screwed on, Part properties change)\n",
    "- Transform a part: Assembly, Painting, ....\n",
    "- Quality Inspection: Inspect an entity and reveal the \"real\" quality\n",
    "- Equipping a resource: Prepare production resources for the next work process\n",
    "- Quality Transformation: Change the quality of the transformed part\n",
    "In addition, processes occupy resources for defined time.\n",
    "\n"
   ]
  }
 ],
 "metadata": {
  "kernelspec": {
   "display_name": "Python 3 (ipykernel)",
   "language": "python",
   "name": "python3"
  },
  "language_info": {
   "codemirror_mode": {
    "name": "ipython",
    "version": 3
   },
   "file_extension": ".py",
   "mimetype": "text/x-python",
   "name": "python",
   "nbconvert_exporter": "python",
   "pygments_lexer": "ipython3",
   "version": "3.12.2"
  }
 },
 "nbformat": 4,
 "nbformat_minor": 5
}
