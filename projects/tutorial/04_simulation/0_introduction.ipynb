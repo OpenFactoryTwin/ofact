{
 "cells": [
  {
   "metadata": {},
   "cell_type": "markdown",
   "source": [
    "# Simulation\n",
    "\n",
    "Now we can start introducing the simulation component of the digital twin. Beside the digital twin state model, we need to introduce the agent model before we can execute the simulation."
   ],
   "id": "7431937e7e41d295"
  },
  {
   "metadata": {},
   "cell_type": "markdown",
   "source": "<img src=\"../docs/assets/imgs/modelling_variants.png\" alt=\"Modelling Variants\" width=\"600\" align=\"center\">",
   "id": "6459ec634281340"
  },
  {
   "metadata": {},
   "cell_type": "markdown",
   "source": [
    "The OFacT use a multi-agent simulation framework to control production and logistics systems and an event discrete simulation approach to change the digital twin state based on the decisions made by the agents.\n",
    "\n",
    "Therefore, we need the already introduced *digital twin state model* and the *agent model* to execute the simulation.\n"
   ],
   "id": "64812c27bae73a81"
  },
  {
   "metadata": {},
   "cell_type": "markdown",
   "source": [
    "## Digital Twin State Model\n",
    "\n",
    "The *digital twin state model* can be without dynamics (process executions) or with dynamics in the past, but should include an order pool with orders not finished. These orders are the basis to derive processes to be executed in the simulation and change the digital twin.\n"
   ],
   "id": "d515865cea3b68d6"
  },
  {
   "metadata": {},
   "cell_type": "code",
   "outputs": [],
   "execution_count": null,
   "source": [
    "from ofact.planning_services.model_generation.persistence import get_state_model_file_path, deserialize_state_model\n",
    "from ofact.twin.repository_services.deserialization.order_types import OrderType\n",
    "from projects.tutorial.settings import PROJECT_PATH\n",
    "\n",
    "# file name of the digital twin state model\n",
    "digital_twin_state_model_file_name = \"input_model.xlsx\"\n",
    "\n",
    "# creating the path to the digital twin state model stored\n",
    "path_to_model = \"models/twin/\"\n",
    "state_model_file_path = get_state_model_file_path(project_path=PROJECT_PATH,\n",
    "                                                  state_model_file_name=digital_twin_state_model_file_name,\n",
    "                                                  path_to_model=path_to_model)\n",
    "\n",
    "# model generation settings (used when the state model is stored in Excel)\n",
    "state_model_generation_settings = {\"order_generation_from_excel\": False,\n",
    "                                   \"customer_generation_from_excel\": True,\n",
    "                                   \"customer_amount\": 5, \"order_amount\": 20,\n",
    "                                   \"order_type\": OrderType.PRODUCT_CONFIGURATOR}\n",
    "\n",
    "# get the state model from Excel\n",
    "state_model = deserialize_state_model(state_model_file_path, persistence_format=\"xlsx\",\n",
    "                                      state_model_generation_settings=state_model_generation_settings,\n",
    "                                      deserialization_required=False)\n",
    "\n",
    "# Alternatively\n",
    "# get state model from Pickle\n",
    "state_model_pkl = deserialize_state_model(state_model_file_path, persistence_format=\"pkl\")"
   ],
   "id": "4394ff8a62687cc0"
  },
  {
   "metadata": {},
   "cell_type": "markdown",
   "source": [
    "## Agent Model\n",
    "\n",
    "For the multi-agent based simulation, we need to introduce the agent model.\n",
    "The agent model contains the agents, negotiating with each other to get a local optimized solution.\n",
    "\n",
    "In general with differentiate different agent types:\n",
    "- Order Pool Agent: is responsible for the order pool and can be requested to release an order to the system\n",
    "- Order Agent: is responsible to fulfill the features of the order by negotiating the execution of derived processes\n",
    "- Information Service Agent: is responsible to provide requested information such as \"currently no resources able to execute a process\"\n",
    "\n",
    "- Resource Agent: is responsible for one or more resources that should be occupied\n",
    "    - WorkStation Agent: is mainly responsible for workstation resources\n",
    "    - Warehouse Agent: is mainly responsible for resources that store/ hold parts or resources\n",
    "    - Transport Agent: is mainly responsible for resources that can move parts or resources\n",
    "- Coordinator Agent: is responsible to coordinate processes especially for more than one resource\n",
    "\n",
    "The main idea is that the order and resource agents negotiate with each other to fulfill the orders.\n",
    "\n",
    "Columns to specify:\n",
    "\n",
    "| Column/ Parameter Name | Description                                                                                                                                                                                                                       |\n",
    "|------------------------|-----------------------------------------------------------------------------------------------------------------------------------------------------------------------------------------------------------------------------------|\n",
    "| amount                 | number of parallel existing agents with the same attributes (only the name would be individualized)                                                                                                                               |\n",
    "| name | name of the agent                                                                                                                                                                                                                 |\n",
    "| agents | agents organization, on which all agents have access to (relevant e.g., for the round handling)                                                                                                                                   | # ToDo: rename to \"organization\"\"\n",
    "| password_xmpp_server | agent password (standard value from settings)\n",
    "| ip_address_xmpp_server | agent ip address (standard value from settings)\n",
    "| digital_twin | digital twin state model object                                                                                                                                                                                                   | # ToDo: rename to \"state model\"\n",
    "| change_handler | (to_be_defined) if required for the agent, the change handler is placed also in the agent (bool value)                                                                                                                            |\n",
    "| address_book | dict of contacts (key: resource or entity name, value: agent name) the order agent has addtionally the contact of the order pool agent and the information service agent as well as the resources agents to the coordinator agent |\n",
    "| processes\t|                                                                                                                                                                                                                                   |\n",
    "| resources\t| list of resources, the agent is responsible for                                                                                                                                                                                   |\n",
    "| preferences | complementary list of preferences associated with the resources                                                                                                                                                                   |\n",
    "| possible_processes | (to_be_defined) derived from the list resources and the available processes in the digitial twin state model                                                                                                                      |  # ToDo: derivation in the resource agent from the resources itself\n",
    "| entity_type_to_store |                                                                                                                                                                                           |  # ToDo handle dynamically incoming goods\n",
    "| entity_types_to_store |                                                                                                                                                                                                                               |  # ToDo handle dynamically incoming goods\n",
    "| process_provider | (to_be_defined)                                                                                                                                                                                                                   |\n",
    "| entity_provider | (to_be_defined)                                                                                                                                                                                                                   |\n",
    "| transport_provider | (to_be_defined)                                                                                                                                                                                                                   |\n",
    "| value_added_processes\t| (to_be_defined) for the order agent to derive the value added processes from the features chosen by the orders                                                                                                                    |\n",
    "| order_pool | (to_be_defined) derived from the state model                                                                                                                                                                                      |\n",
    "\n",
    "Preferences\n",
    "\n",
    "Each resource get a preference that contains reference objects and the accepted time horizont.\n",
    "| Column/ Parameter Name | Description                         |\n",
    "|------------------------|-------------------------------------|\n",
    "| reference_objects      | in general a list of one resource   |\n",
    "| accepted_time_horizont | time horizont for the planning task |"
   ],
   "id": "a8aba8e96dda38f6"
  },
  {
   "metadata": {},
   "cell_type": "code",
   "outputs": [],
   "execution_count": null,
   "source": [
    "from datetime import datetime\n",
    "from pathlib import Path\n",
    "from projects.bicycle_world.twin.agent_control.simulate import SimulationStarterBicycleWorld\n",
    "from projects.tutorial.settings import (PROJECT_PATH, XMPP_SERVER_IP_ADDRESS, XMPP_SERVER_REST_API_PORT,\n",
    "                                        XMPP_SERVER_SHARED_SECRET, XMPP_SERVER_REST_API_USERS_ENDPOINT)"
   ],
   "id": "71fce897fb2f1fb"
  },
  {
   "metadata": {},
   "cell_type": "code",
   "outputs": [],
   "execution_count": null,
   "source": [
    "# simulation starter object that stores the general information such as the xmpp server data\n",
    "simulation_starter = (\n",
    "    SimulationStarterBicycleWorld(project_path=PROJECT_PATH, path_to_models=\"\",\n",
    "                                  xmpp_server_ip_address=XMPP_SERVER_IP_ADDRESS,\n",
    "                                  xmpp_server_rest_api_port=XMPP_SERVER_REST_API_PORT,\n",
    "                                  xmpp_server_shared_secret=XMPP_SERVER_SHARED_SECRET,\n",
    "                                  xmpp_server_rest_api_users_endpoint=XMPP_SERVER_REST_API_USERS_ENDPOINT))\n",
    "# file name of the model\n",
    "agents_model_file_name = \"board_game.xlsx\"\n",
    "\n",
    "# number of order agents (each order agent is responsible for one order - (sequential 1-1 relation))\n",
    "order_agent_amount = 1\n",
    "\n",
    "# here you can introduce paths to update the digital twin state model\n",
    "# e.g., an Excel modeled schedule for the resources that updates their intern (state model) schedules (of the resources)\n",
    "digital_twin_update_paths = {}  # {\"resource_schedule\": \"settings.xlsx\"}\n",
    "\n",
    "# path where the resulting state model (including the dynamics) is stored\n",
    "digital_twin_state_model_result_path = Path(str(PROJECT_PATH), \"scenarios/current/results/six_orders.pkl\")\n",
    "\n",
    "# method that execute the simulation\n",
    "simulation_starter.simulate(digital_twin=state_model,\n",
    "                            start_time_simulation=datetime.now(),\n",
    "                            digital_twin_update_paths=digital_twin_update_paths,\n",
    "                            agents_file_name=agents_model_file_name,\n",
    "                            order_agent_amount=order_agent_amount,\n",
    "                            digital_twin_result_path=digital_twin_state_model_result_path)"
   ],
   "id": "c4208be7b0017de7"
  },
  {
   "metadata": {},
   "cell_type": "markdown",
   "source": [
    "Knowing the basics for the simulation, you can execute the board game and the bicycle factory simulation.\n",
    "As you have learned in the second part,\n",
    "\n",
    "You can also try to change the number of order agents or try to change the state model ..."
   ],
   "id": "f16e1f1bd81ce462"
  },
  {
   "metadata": {},
   "cell_type": "markdown",
   "source": [
    "Note: For the simulation, a xmpp server is required:\n",
    "- Reference to the guide to install the xmpp Server: docs/dev/setup_guide.md"
   ],
   "id": "5371368b02c515d9"
  }
 ],
 "metadata": {},
 "nbformat": 5,
 "nbformat_minor": 9
}
