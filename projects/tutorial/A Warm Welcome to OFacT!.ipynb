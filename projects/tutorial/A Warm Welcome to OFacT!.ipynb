{
 "cells": [
  {
   "metadata": {},
   "cell_type": "markdown",
   "source": "# Welcome to our Open Factory Twin tutorial!",
   "id": "a5c98667de559ffd"
  },
  {
   "metadata": {},
   "cell_type": "markdown",
   "source": "Welcome to our tutorial on the Open Factory Twin framework! In today's rapidly evolving manufacturing landscape, digital twins have emerged as a transformative technology, enabling companies to create virtual replicas of their physical assets. The Open Factory Twin offers a flexible framework designed to facilitate the development and integration of digital twins in industrial settings.",
   "id": "6850f48b8e40c042"
  },
  {
   "metadata": {},
   "cell_type": "markdown",
   "source": [
    "To illustrate the impact of this technology, let’s imagine a conversation between Ola Fact and Old Henry. Ola, an enthusiastic advocate of digital innovation, shares her insights with Henry, who represents the traditional mindset in production. Their discussion highlights the significance of digital twins and how they can revolutionize manufacturing processes.\n",
    "\n",
    "Join us as we dive into their conversation and explore how Open Factory Twin can empower you to optimize your production operations!\n",
    "\n",
    "👩‍🔬 *Ola FacT*: Hey Henry, have you heard about digital twins?\n",
    "\n",
    "   👴 *Old Henry*: Digital twins? No, what are they?\n",
    "\n",
    "👩‍🔬 *Ola FacT*: They’re virtual replicas of physical assets, like machines or entire production lines. They allow us to handle complexities coming from demand fluctuations and individual products by simulating, monitoring, and optimizing the system in its virtual replica.\n",
    "\n",
    "   👴 *Old Henry*: That sounds impressive! This will allow me to assemble cars other than the black ones. How do they revolutionize production?\n",
    "\n",
    "👩‍🔬 *Ola FacT*: By using real-time data, digital twins help predict issues before they occur, reducing downtime and improving efficiency. It’s like having a crystal ball for production!\n",
    "\n",
    "   👴 *Old Henry*: So, they enhance decision-making?\n",
    "\n",
    "👩‍🔬 *Ola FacT*: Exactly! They enable better planning and testing without disrupting actual operations. It’s a game-changer for smart factories!\n",
    "\n",
    "   👴 *Old Henry*: I can see why you’re excited, Ola. This technology could really transform how we think about production!\n",
    "\n",
    "👩‍🔬 *Ola FacT*: Absolutely, Henry! The future of manufacturing is here!\n",
    "\n",
    "   👴 *Old Henry*: I'll have to take a closer look to make sure I don't miss out on my lead, Ola. Can you give me a deeper insight?\n",
    "\n",
    "👩‍🔬 *Ola FacT*: Your welcome! We can directly start!"
   ],
   "id": "e8b52d32674e2b4d"
  },
  {
   "metadata": {},
   "cell_type": "markdown",
   "source": [
    "The tutorial is subdivided into four sections:\n",
    "1. 🏗️ In the **Modeling** section, you will get in touch with the board game factory and learn how to model your first state model\n",
    "([click here](01_modelling/0_introduction.ipynb)).\n",
    "   - Manually\n",
    "   - Automatically (to be implemented)\n",
    "2. 📊 Based on the state model, you can integrate dynamic event from the shop floor in the **Data Integration** part ([click here](02_data_integration/0_introduction.ipynb)).\n",
    "3. 📈 These dynamics can be analysed in the **Analytics** part by calculating key performance indicies (KPIs) to describe the performance of the shop floor system ([click here](03_analytics/0_introduction.ipynb)).\n",
    "4. 🌐 Lastly, the **Simulation** component is used as alternative to the data integration by simulating the dynamics from the shop floor ([click here](04_simulation/0_introduction.ipynb)).\n",
    "\n",
    "❗ Note: The sections build on each other, but can also be worked through independently."
   ],
   "id": "8242a601a504efa5"
  },
  {
   "metadata": {},
   "cell_type": "markdown",
   "source": [
    "But before we get started, you should install the library requirements, Henry, which will allow you to interact with OFacT.\n",
    "This can be done by installing the requirements.txt in your preferred environment (execute the command from the current folder).\n",
    "\n",
    "```\n",
    "pip install -r requirements.txt\n",
    "```"
   ],
   "id": "c843d34ea31072ab"
  },
  {
   "metadata": {},
   "cell_type": "markdown",
   "source": [
    "Note, the requirements are only for the first part. For the rest of the tutorial, you don't need to install the requirements from the repository root.\n",
    "Therefore you can you use the same command from a different folder (root)."
   ],
   "id": "e3d74cdd815526d1"
  },
  {
   "metadata": {},
   "cell_type": "markdown",
   "source": "But now, hold your horses and sit back for exploring and enjoying of the OFacT workflow ;).",
   "id": "9d1cefb2178d3092"
  }
 ],
 "metadata": {
  "kernelspec": {
   "display_name": "Python 3",
   "language": "python",
   "name": "python3"
  },
  "language_info": {
   "codemirror_mode": {
    "name": "ipython",
    "version": 2
   },
   "file_extension": ".py",
   "mimetype": "text/x-python",
   "name": "python",
   "nbconvert_exporter": "python",
   "pygments_lexer": "ipython2",
   "version": "2.7.6"
  }
 },
 "nbformat": 4,
 "nbformat_minor": 5
}
