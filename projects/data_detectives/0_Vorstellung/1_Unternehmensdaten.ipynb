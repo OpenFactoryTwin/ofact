{
 "cells": [
  {
   "metadata": {},
   "cell_type": "markdown",
   "source": "# Unternehmensdaten",
   "id": "ed459f8f92e93de6"
  },
  {
   "metadata": {},
   "cell_type": "markdown",
   "source": "![Data Quality](../imgs/data_quality.png)",
   "id": "4b9d8a6fdebc0701"
  },
  {
   "metadata": {},
   "cell_type": "markdown",
   "source": [
    "## Daten vom Shop Floor\n",
    "\n",
    "Typische Datenquellen sind Ausfürhgunslogs bezogen auf:\n",
    "- Prozesse\n",
    "- Aufträge"
   ],
   "id": "ffc8c87eabfa21ff"
  },
  {
   "metadata": {
    "ExecuteTime": {
     "end_time": "2025-07-03T13:55:45.096656Z",
     "start_time": "2025-07-03T13:55:44.351158Z"
    }
   },
   "cell_type": "code",
   "source": "import pandas as pd",
   "id": "de235393414ad819",
   "outputs": [],
   "execution_count": 1
  },
  {
   "metadata": {
    "ExecuteTime": {
     "end_time": "2025-07-03T13:55:46.327271Z",
     "start_time": "2025-07-03T13:55:45.886473Z"
    }
   },
   "cell_type": "code",
   "source": [
    "# read the source files\n",
    "execution_log_df = pd.read_excel(\"../data/executions.xlsx\")\n",
    "\n",
    "print(execution_log_df.columns.values)\n",
    "print(execution_log_df.head())"
   ],
   "id": "e60c8f1b7d7bae1a",
   "outputs": [
    {
     "name": "stdout",
     "output_type": "stream",
     "text": [
      "['Process Execution ID' 'Process Name' 'Start Time' 'End Time'\n",
      " 'Order Identifier' 'Feature' 'Main Resource' 'Origin Resource'\n",
      " 'Destination Resource' 'Resulting Quality' 'Resource 0' 'Part 0' 'Part 1'\n",
      " 'Part 2' 'Part 3']\n",
      "   Process Execution ID        Process Name          Start Time  \\\n",
      "0                 22715  transport_access_p 2025-07-03 07:00:00   \n",
      "1                 22774  transport_access_p 2025-07-03 07:00:00   \n",
      "2                 22706  transport_access_p 2025-07-03 07:00:00   \n",
      "3                 22747  transport_access_p 2025-07-03 07:00:00   \n",
      "4                 22769  transport_access_p 2025-07-03 07:00:00   \n",
      "\n",
      "             End Time  Order Identifier Feature       Main Resource  \\\n",
      "0 2025-07-03 07:00:20             22658     NaN  main_part_agv4_nsr   \n",
      "1 2025-07-03 07:00:20             22652     NaN   main_part_agv_nsr   \n",
      "2 2025-07-03 07:00:20             22659     NaN  main_part_agv8_nsr   \n",
      "3 2025-07-03 07:00:20             22655     NaN  main_part_agv1_nsr   \n",
      "4 2025-07-03 07:00:20             22653     NaN  main_part_agv9_nsr   \n",
      "\n",
      "      Origin Resource Destination Resource  Resulting Quality Resource 0  \\\n",
      "0  loading_station1_s     main_warehouse_w                  1        NaN   \n",
      "1  loading_station1_s     main_warehouse_w                  1        NaN   \n",
      "2  loading_station1_s     main_warehouse_w                  1        NaN   \n",
      "3  loading_station1_s     main_warehouse_w                  1        NaN   \n",
      "4  loading_station1_s     main_warehouse_w                  1        NaN   \n",
      "\n",
      "  Part 0 Part 1 Part 2 Part 3  \n",
      "0    NaN    NaN    NaN    NaN  \n",
      "1    NaN    NaN    NaN    NaN  \n",
      "2    NaN    NaN    NaN    NaN  \n",
      "3    NaN    NaN    NaN    NaN  \n",
      "4    NaN    NaN    NaN    NaN  \n"
     ]
    }
   ],
   "execution_count": 2
  },
  {
   "metadata": {},
   "cell_type": "markdown",
   "source": [
    "Im Prozessauführungslog finden Sie eine Liste aller ausgeführten Prozesse.\n",
    "Jede Zeile enthält die folgenden Daten:\n",
    "- Prozessinformationen (Link zur Identifizierung und/oder zum Namen des ausgeführten Prozesses)\n",
    "- Zeitinformationen (Start- und Endzeit des Prozesses)\n",
    "- Auftragsinformationen (Link zum zugehörigen Auftrag)\n",
    "- Ressourceninformationen (Link zu den zugehörigen Ressourcen)\n",
    "- (Eingabe-)Teilinformationen (Link zu den zugehörigen Teilen)\n",
    "- Übergangsinformationen (Herkunfts- und Zielressource, die zur Spezifizierung des Transports oder Transfers erforderlich sind)\n",
    "- Qualitätsinformationen (Angabe der resultierenden Qualität der transformierten Teile)\n",
    "\n",
    "Diese Dateneinträge sind erforderlich, um das Zustandsmodell des Digitalen Zwillings zu aktualisieren.\n",
    "Dies ist jedoch nur ein Beispiel dafür, wie die Dateneingabe aussehen könnte.\n",
    "Abweichende Datenstrukturen sind ebenfalls möglich, wie beispielsweise Event Logs.\n",
    "In Event Logs kann ein Prozess mehrere Einträge haben, z. B. wird für jedes Ereignis ein Eintrag erstellt.\n",
    "Datenlücken (fehlende Daten) können ebenfalls im Rahmen der Datenintegration behandelt werden.\n"
   ],
   "id": "3515c854c47dc817"
  },
  {
   "metadata": {
    "ExecuteTime": {
     "end_time": "2025-07-03T13:57:37.067386Z",
     "start_time": "2025-07-03T13:57:37.040386Z"
    }
   },
   "cell_type": "code",
   "source": [
    "# read the source files\n",
    "order_pool_df = pd.read_excel(\"../data/orders.xlsx\")\n",
    "\n",
    "print(order_pool_df.columns.values)\n",
    "print(order_pool_df.head())"
   ],
   "id": "840b08897aa6c64f",
   "outputs": [
    {
     "name": "stdout",
     "output_type": "stream",
     "text": [
      "['Identifier' 'Product Class' 'Price' 'Customer' 'Order Date'\n",
      " 'Release Date' 'Delivery Date Requested' 'Delivery Date Planned'\n",
      " 'Delivery Date Actual' 'Urgent' 'Feature 0' 'Feature 1' 'Feature 2'\n",
      " 'Feature 3' 'Feature 4' 'Feature 5' 'Feature 6' 'Feature 7' 'Feature 8'\n",
      " 'Feature 9' 'Feature 10' 'Feature 11']\n",
      "   Identifier Product Class    Price  Customer              Order Date  \\\n",
      "0       22650      frame_et  4842.24     20019 2025-06-30 09:29:53.459   \n",
      "1       22651      frame_et  3553.83     20018 2025-06-30 09:40:46.459   \n",
      "2       22652      frame_et  4536.84     20017 2025-06-30 09:49:13.459   \n",
      "3       22653      frame_et  2928.39     20019 2025-06-30 09:59:55.459   \n",
      "4       22654      frame_et  3252.65     20020 2025-06-30 10:09:04.459   \n",
      "\n",
      "         Release Date  Delivery Date Requested   Delivery Date Planned  \\\n",
      "0 2025-07-03 07:00:00                      NaN 2025-06-30 10:19:53.459   \n",
      "1 2025-07-03 07:00:00                      NaN 2025-06-30 10:30:46.459   \n",
      "2 2025-07-03 07:00:00                      NaN 2025-06-30 10:39:13.459   \n",
      "3 2025-07-03 07:00:00                      NaN 2025-06-30 10:49:55.459   \n",
      "4 2025-07-03 07:00:00                      NaN 2025-06-30 10:59:04.459   \n",
      "\n",
      "  Delivery Date Actual  Urgent  ...                 Feature 2  \\\n",
      "0  2025-07-03 09:16:14       0  ...  pedale_racing_bike_pro_f   \n",
      "1  2025-07-03 09:38:47       0  ...            no_lightning_f   \n",
      "2  2025-07-03 08:16:05       0  ...            no_lightning_f   \n",
      "3  2025-07-03 09:09:40       0  ...           blue_metallic_f   \n",
      "4  2025-07-03 08:53:52       0  ...  saddle_trekking_female_f   \n",
      "\n",
      "                  Feature 3                Feature 4  \\\n",
      "0    saddle_trekking_male_f  rims_terrain_standard_f   \n",
      "1  saddle_trekking_female_f     pedale_racing_bike_f   \n",
      "2   rims_terrain_standard_f  wheel_racing_bike_pro_f   \n",
      "3           saddle_junior_f          lightning_pro_f   \n",
      "4            no_lightning_f       rims_terrain_pro_f   \n",
      "\n",
      "                      Feature 5                  Feature 6  \\\n",
      "0  wheel_racing_bike_standard_f   female_trekking_carbon_f   \n",
      "1       rims_terrain_standard_f     disc_brakes_standard_f   \n",
      "2               saddle_junior_f   pedale_racing_bike_pro_f   \n",
      "3        disc_brakes_standard_f           pedale_comfort_f   \n",
      "4          pedale_racing_bike_f  disc_brakes_racing_bike_f   \n",
      "\n",
      "                 Feature 7                        Feature 8  \\\n",
      "0   disc_brakes_standard_f      dynamo_lightning_standard_f   \n",
      "1          wheel_terrain_f  handlebar_standard_with_horns_f   \n",
      "2         male_city_bike_f     gear_shift_racing_bike_pro_f   \n",
      "3  rims_terrain_standard_f         gear_shift_racing_bike_f   \n",
      "4          wheel_terrain_f      handlebar_Retro_with_horn_f   \n",
      "\n",
      "                             Feature 9                       Feature 10  \\\n",
      "0  handlebar_comfort_with_sport_ring_f         gear_shift_racing_bike_f   \n",
      "1                     male_city_bike_f    gear_shift_terrain_electric_f   \n",
      "2            disc_brakes_racing_bike_f  handlebar_standard_with_horns_f   \n",
      "3              wheel_racing_bike_pro_f      handlebar_Retro_with_horn_f   \n",
      "4                     male_city_bike_f   gear_shift_standard_electric_f   \n",
      "\n",
      "            Feature 11  \n",
      "0  customer_delivery_f  \n",
      "1  customer_delivery_f  \n",
      "2  customer_delivery_f  \n",
      "3  customer_delivery_f  \n",
      "4  customer_delivery_f  \n",
      "\n",
      "[5 rows x 22 columns]\n"
     ]
    }
   ],
   "execution_count": 3
  },
  {
   "metadata": {},
   "cell_type": "markdown",
   "source": [
    "In der Auftrags-Pool-Ausführungsdatei finden Sie eine Liste aller Aufträge. Diese können bereits abgeschlossen, in Bearbeitung oder geplant sein. Jede Zeile enthält die folgenden Daten:\n",
    "- Auftragsinformationen (Link zur Auftragskennung und/oder zum Namen)\n",
    "- Kundeninformationen (Link zum zugehörigen Kunden)\n",
    "- Preisinformationen (Wie viel kostet der Auftrag?)\n",
    "- Produktinformationen (Link zum zugehörigen Produkt (Teil) und/oder zur Produktklasse (Art des Produkts))\n",
    "- Zeitinformationen (Zeitstempel des Auftragslebenszyklus - („Auftragsdatum”, „Freigabedatum”, „Gewünschter Liefertermin“, „Geplanter Liefertermin“, „Tatsächlicher Liefertermin“))\n",
    "– Dringlichkeitsinformationen (Ist die Bestellung dringend?)\n",
    "– Feature-Informationen (beschreibt die vom Kunden gewählten Produktspezifikationen)\n",
    "– Features werden Prozessen zugeordnet (im statischen Zustandsmodell).\n",
    "\n",
    "Der Auftrag wird durch die Ausführung einer Reihe von Prozessen abgeschlossen, die erforderlich sind, um die ausgewählten Merkmale zum Produkt hinzuzufügen. Diese Dateneinträge sind erforderlich, um das Zustandsmodell des digitalen Zwillings zu aktualisieren. Dies ist jedoch nur ein Beispiel dafür, wie die Dateneingabe aussehen könnte. Abweichende Datenstrukturen sind ebenfalls möglich. Wenn beispielsweise der Auftrag in einem Anwendungsfall auf Stücklisten oder Prozessen statt auf Merkmalen basiert, könnten Merkmale künstlich hinzugefügt werden. Wie bereits für die Event Logs erwähnt, können Datenlücken (fehlende Daten) als Teil der Datenintegration behandelt werden."
   ],
   "id": "147cde98c18d13bc"
  }
 ],
 "metadata": {},
 "nbformat": 4,
 "nbformat_minor": 5
}
