{
 "cells": [
  {
   "metadata": {},
   "cell_type": "markdown",
   "source": "# Schwachstellen erkennen",
   "id": "e7afaaeecdbd6670"
  },
  {
   "metadata": {},
   "cell_type": "markdown",
   "source": [
    "## Zielsetzung\n",
    "1. Festlegen der Zielgrößen ...\n",
    "- Liefertreue\n",
    "- Auslastung\n",
    "2. Optimieren der Zielgrößen .."
   ],
   "id": "2d4220f29bf92bb7"
  },
  {
   "metadata": {
    "ExecuteTime": {
     "end_time": "2025-07-03T10:26:36.853722Z",
     "start_time": "2025-07-03T10:26:32.606903Z"
    }
   },
   "cell_type": "code",
   "source": [
    "from projects.data_detectives.code.functions import *\n",
    "from datetime import datetime\n",
    "from pathlib import Path"
   ],
   "id": "984661aaab64171c",
   "outputs": [
    {
     "name": "stdout",
     "output_type": "stream",
     "text": [
      "No module named 'pyarrow'\n",
      "Project Path: C:\\Users\\afreiter\\PycharmProjects\\ofact\\projects/bicycle_world\n"
     ]
    }
   ],
   "execution_count": 1
  },
  {
   "metadata": {},
   "cell_type": "markdown",
   "source": "## Parameter variieren",
   "id": "27f15bff82491c95"
  },
  {
   "metadata": {
    "ExecuteTime": {
     "end_time": "2025-07-03T10:26:36.867713Z",
     "start_time": "2025-07-03T10:26:36.861368Z"
    }
   },
   "cell_type": "code",
   "source": [
    "# start_time_simulation = datetime(2025, 7, 4, 7)\n",
    "# resource_schedule = \"schedule_s1\"\n",
    "work_in_process = 9\n",
    "update_simulation_input_parameters(work_in_process=work_in_process)"
   ],
   "id": "848e501162decfc0",
   "outputs": [],
   "execution_count": 2
  },
  {
   "metadata": {},
   "cell_type": "markdown",
   "source": "## Simulieren",
   "id": "8566f731bca2b6f5"
  },
  {
   "metadata": {},
   "cell_type": "code",
   "source": [
    "# Beachte: Bevor die Simulation gestartet werden kann, sollte der Kommunikationsserver \"pyjabber\" gestartet werden ...\n",
    "!python -m projects.bicycle_world.scenarios.current.main"
   ],
   "id": "eada0f0aa124c595",
   "outputs": [],
   "execution_count": null
  },
  {
   "metadata": {},
   "cell_type": "markdown",
   "source": "# Analysieren",
   "id": "28d6a13f03275796"
  },
  {
   "metadata": {},
   "cell_type": "code",
   "source": [
    "# simuliertes Szenario einladen\n",
    "resource_schedule = \"schedule_s1\"\n",
    "work_in_process = 9\n",
    "scenario = f\"{resource_schedule}_{int(work_in_process)}\"\n",
    "\n",
    "state_model_file_path = Path(PROJECT_PATH + f\"/scenarios/current/results/{scenario}.pkl\")\n",
    "state_model: StateModel = deserialize_state_model(state_model_file_path, persistence_format=\"pkl\", dynamics=True)"
   ],
   "id": "f8fb84b81f011fce",
   "outputs": [],
   "execution_count": null
  },
  {
   "metadata": {},
   "cell_type": "code",
   "source": "schedule = get_schedule(state_model)",
   "id": "fd45946d01bd6a4",
   "outputs": [],
   "execution_count": null
  },
  {
   "metadata": {},
   "cell_type": "code",
   "source": [
    "# Overall KPIs\n",
    "get_order_finished(state_model)  # share of orders finished\n",
    "get_delivery_reliability(state_model)  # delivery reliability\n",
    "get_order_lead_time(state_model)  # order lead time\n",
    "actual_resources_working_hours, planned_resources_working_hours = (\n",
    "    get_schedule_time_equivalent(schedule=schedule,\n",
    "                                 aggregated=[\"Main Part AGV\"]))  # capacity utilization"
   ],
   "id": "8210d31aceb4bdaf",
   "outputs": [],
   "execution_count": null
  },
  {
   "metadata": {},
   "cell_type": "code",
   "source": [
    "# Detailed view\n",
    "schedule = plot_resource_schedule(schedule)"
   ],
   "id": "cd6e0897eda33349",
   "outputs": [],
   "execution_count": null
  },
  {
   "metadata": {},
   "cell_type": "code",
   "source": [
    "orders = state_model.get_orders()\n",
    "for order in orders:\n",
    "    print(order.identification, \"-\", order.release_date_actual, \"-\", order.delivery_date_planned, \"-\", order.delivery_date_actual)\n",
    "    if order.delivery_date_actual and order.release_date_actual:\n",
    "        print(order.delivery_date_actual - order.release_date_actual)"
   ],
   "id": "a485b7b61f5ad2c4",
   "outputs": [],
   "execution_count": null
  },
  {
   "metadata": {},
   "cell_type": "code",
   "source": "",
   "id": "8fb42e53702c36bc",
   "outputs": [],
   "execution_count": null
  }
 ],
 "metadata": {},
 "nbformat": 4,
 "nbformat_minor": 5
}
