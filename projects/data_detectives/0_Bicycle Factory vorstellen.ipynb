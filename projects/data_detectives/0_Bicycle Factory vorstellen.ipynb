{
 "cells": [
  {
   "metadata": {},
   "cell_type": "markdown",
   "source": "# Bicycle Factory vorstellen",
   "id": "17d138874fefc5f9"
  },
  {
   "metadata": {},
   "cell_type": "markdown",
   "source": "![Bicycle Factory](imgs/bicycle_factory.png)",
   "id": "2297e730c98efc0f"
  },
  {
   "metadata": {},
   "cell_type": "markdown",
   "source": [
    "Im Rahmen der „Data Detectives“-Session nutzen wir ein Referenz-Modell einer Fahrradfabrik. Kurz und knapp:\n",
    "- Matrix-Produktion: mehrere Prozesse teilen sich Stationen, Laufzeiten deterministisch\n",
    "- 5 standardisierte Arbeitsstationen (welche je 1 Fahrrad gleichzeitig bearbeiten können)\n",
    "    - frame and handlebar\n",
    "    - painting\n",
    "    - gear shifts and brakes\n",
    "    - lightning pedal saddle\n",
    "    - wheel\n",
    "- Lackierstation als einziger Engpass – alle Fahrräder müssen hier durch\n",
    "- Produktvielfalt: 9 Fahrradrahmen × 141 Teile × 17–22 Prozesse ≈ 600 Mio. Konfigurationen"
   ],
   "id": "6ed3466fffda4af1"
  },
  {
   "metadata": {},
   "cell_type": "markdown",
   "source": "![Vorranggraph](imgs/precedence_graph.png)",
   "id": "ca58017da7d6b506"
  }
 ],
 "metadata": {},
 "nbformat": 4,
 "nbformat_minor": 5
}
