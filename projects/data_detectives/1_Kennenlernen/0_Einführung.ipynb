{
 "cells": [
  {
   "metadata": {},
   "cell_type": "markdown",
   "source": [
    "# OFacT - Beispielhafter Workflow\n",
    "Modellparameter bestimmen, simulieren und analysieren ...\n",
    "\n",
    "## Parametrierbares Modell mit Parametern\n",
    "\n",
    "### 🏭 Modell\n",
    "Das Modell beschreibt das reale Produktions- oder Logistiksystem.\n",
    "\n",
    "### Parameter: 📥 Auftragspool (System Last)\n",
    "Die Aufträge bilden die Last für das System ab. Dies kann bspw. der Order Pool eines Tages sein.\n",
    "\n",
    "###  Parameter: 📅 Schichtplan (Kapazitäten)\n",
    "Der Schedule ist der Schichtplan des System. Es beschreibt welche Ressourcen (Mitarbeiter, Arbeitsstationen, etc.) wann verfügbar sind.\n",
    "\n",
    "## 🏭 Simulieren\n",
    "Für die Simulation wird das parametrierbare Modell eingeladen und nachfolgend simuliert (Simulationslauf).\n",
    "Welcher Zeitraum simuliert wird oder ob die simuliert den vollstänfigen Auftragspool durchsimuliert ist bspw. ein weiterer Parameter.\n",
    "\n",
    "## 📊 Analysieren\n",
    "Basierend auf den simulierten Prozessausführungen, wird im nachfolgenden der Simulationslauf ausgewertet.\n",
    "Die Auswertung lassen sich unterschiedliche Kennzahlen heranziehen ...\n",
    "- Liefertreue\n",
    "- Ressourcenauslastung\n",
    "- Durchlaufzeit\n",
    "- ...\n",
    "\n",
    "Basierend auf den Ergebnissen, lassen sich die Modellparameter manuell oder automatisiert editieren.\n",
    "Zielsetzung ist die Verbesserung der Ergebnisse, nach vorher definierten Zielgrößen.\n",
    "Beispielhaft soll die Ressourcenauslastung und die Liefertreue optimiert werden. Beiede sollen möglichst 100% erreichen ..."
   ],
   "id": "d3cf2bfdffc16c6b"
  },
  {
   "metadata": {},
   "cell_type": "markdown",
   "source": "# Modell",
   "id": "3c623dc6ccba8787"
  },
  {
   "metadata": {},
   "cell_type": "code",
   "source": [
    "from projects.data_detectives.code.functions import *\n",
    "from pathlib import Path"
   ],
   "id": "20474e9c36a673fa",
   "outputs": [],
   "execution_count": null
  },
  {
   "metadata": {},
   "cell_type": "code",
   "source": [
    "state_model_file_name = \"bicycle_factory\"\n",
    "file_types = [\"xlsx\",\n",
    "              \"pkl\"]\n",
    "file_type = file_types[0]\n",
    "state_model = create_state_model(state_model_file_name, file_type=file_type)"
   ],
   "id": "747a830a0243e46a",
   "outputs": [],
   "execution_count": null
  },
  {
   "metadata": {},
   "cell_type": "code",
   "source": [
    "orders = state_model.get_orders()\n",
    "for order in orders:\n",
    "    print(f\"Der Kundenname des Auftrags ist: '{order.customer.name}'.\")"
   ],
   "id": "fe2a7fecf9899159",
   "outputs": [],
   "execution_count": null
  },
  {
   "metadata": {},
   "cell_type": "code",
   "source": [
    "order = orders[0]\n",
    "\n",
    "print(\"Der erste Auftrag hat die folgenden Merkmale:\")\n",
    "for i, feature in enumerate(order.features_requested):\n",
    "    print(f\"Merkmal {i}: '{feature.name}'\")"
   ],
   "id": "543fc24c17fd0c84",
   "outputs": [],
   "execution_count": null
  },
  {
   "metadata": {},
   "cell_type": "markdown",
   "source": "# Parameter",
   "id": "b933ac8a83481635"
  },
  {
   "metadata": {},
   "cell_type": "code",
   "source": [
    "schedule_name = \"schedule_s1\"\n",
    "get_table(f\"/scenarios/current/models/resource/{schedule_name}.xlsx\", target_file=None, sheet_name=\"General\")"
   ],
   "id": "c0d6616b60b3512a",
   "outputs": [],
   "execution_count": null
  },
  {
   "metadata": {},
   "cell_type": "markdown",
   "source": "# Simulation",
   "id": "164639292d2f3a7a"
  },
  {
   "metadata": {},
   "cell_type": "code",
   "source": [
    "# Beachte: Bevor die Simulation gestartet werden kann, sollte der Kommunikationsserver \"pyjabber\" gestartet werden ...\n",
    "!python -m projects.bicycle_world.scenarios.current.main"
   ],
   "id": "30c9379bb6ab98d0",
   "outputs": [],
   "execution_count": null
  },
  {
   "metadata": {},
   "cell_type": "markdown",
   "source": "# Analyse",
   "id": "f1daf30dc3eea3f2"
  },
  {
   "metadata": {},
   "cell_type": "code",
   "source": [
    "resource_schedule = \"schedule_s1\"\n",
    "scenario = f\"{resource_schedule}\"\n",
    "\n",
    "state_model_file_path = Path(PROJECT_PATH + f\"/scenarios/current/results/{scenario}.pkl\")\n",
    "state_model: StateModel = deserialize_state_model(state_model_file_path, persistence_format=\"pkl\", dynamics=True)"
   ],
   "id": "3fc22f7a98f93264",
   "outputs": [],
   "execution_count": null
  },
  {
   "metadata": {},
   "cell_type": "code",
   "source": [
    "schedule = get_schedule(state_model)\n",
    "\n",
    "get_order_finished(state_model)  # share of orders finished\n",
    "get_delivery_reliability(state_model)  # delivery reliability\n",
    "get_order_lead_time(state_model)  # order lead time\n",
    "actual_resources_working_hours, planned_resources_working_hours = (\n",
    "    get_schedule_time_equivalent(schedule=schedule,\n",
    "                                 aggregated=[\"Main Part AGV\"]))  # capacity utilization"
   ],
   "id": "eb28c3a19a5cafc3",
   "outputs": [],
   "execution_count": null
  },
  {
   "metadata": {},
   "cell_type": "markdown",
   "source": "..",
   "id": "714099fa75af18a9"
  }
 ],
 "metadata": {},
 "nbformat": 4,
 "nbformat_minor": 5
}
