{
 "cells": [
  {
   "metadata": {},
   "cell_type": "markdown",
   "source": "# Unternehmensdaten",
   "id": "ed459f8f92e93de6"
  },
  {
   "metadata": {},
   "cell_type": "markdown",
   "source": "![Data Quality](imgs/data_quality.png)",
   "id": "4b9d8a6fdebc0701"
  },
  {
   "metadata": {},
   "cell_type": "markdown",
   "source": [
    "## Daten vom Shop Floor\n",
    "\n",
    "Typische Datenquellen sind Ausfürhgunslogs bezogen auf:\n",
    "- Prozesse\n",
    "- Aufträge"
   ],
   "id": "ffc8c87eabfa21ff"
  },
  {
   "metadata": {},
   "cell_type": "code",
   "source": "import pandas as pd",
   "id": "de235393414ad819",
   "outputs": [],
   "execution_count": null
  },
  {
   "metadata": {},
   "cell_type": "code",
   "source": [
    "# read the source files\n",
    "execution_log_df = pd.read_excel(\"data/executions.xlsx\")\n",
    "\n",
    "print(execution_log_df.columns.values)\n",
    "print(execution_log_df.head())"
   ],
   "id": "e60c8f1b7d7bae1a",
   "outputs": [],
   "execution_count": null
  },
  {
   "metadata": {},
   "cell_type": "markdown",
   "source": [
    "Im Prozessauführungslog finden Sie eine Liste aller ausgeführten Prozesse.\n",
    "Jede Zeile enthält die folgenden Daten:\n",
    "- Prozessinformationen (Link zur Identifizierung und/oder zum Namen des ausgeführten Prozesses)\n",
    "- Zeitinformationen (Start- und Endzeit des Prozesses)\n",
    "- Auftragsinformationen (Link zum zugehörigen Auftrag)\n",
    "- Ressourceninformationen (Link zu den zugehörigen Ressourcen)\n",
    "- (Eingabe-)Teilinformationen (Link zu den zugehörigen Teilen)\n",
    "- Übergangsinformationen (Herkunfts- und Zielressource, die zur Spezifizierung des Transports oder Transfers erforderlich sind)\n",
    "- Qualitätsinformationen (Angabe der resultierenden Qualität der transformierten Teile)\n",
    "\n",
    "Diese Dateneinträge sind erforderlich, um das Zustandsmodell des Digitalen Zwillings zu aktualisieren.\n",
    "Dies ist jedoch nur ein Beispiel dafür, wie die Dateneingabe aussehen könnte.\n",
    "Abweichende Datenstrukturen sind ebenfalls möglich, wie beispielsweise Event Logs.\n",
    "In Event Logs kann ein Prozess mehrere Einträge haben, z. B. wird für jedes Ereignis ein Eintrag erstellt.\n",
    "Datenlücken (fehlende Daten) können ebenfalls im Rahmen der Datenintegration behandelt werden.\n"
   ],
   "id": "3515c854c47dc817"
  },
  {
   "metadata": {},
   "cell_type": "code",
   "source": [
    "# read the source files\n",
    "order_pool_df = pd.read_excel(\"data/orders.xlsx\")\n",
    "\n",
    "print(order_pool_df.columns.values)\n",
    "print(order_pool_df.head())"
   ],
   "id": "840b08897aa6c64f",
   "outputs": [],
   "execution_count": null
  },
  {
   "metadata": {},
   "cell_type": "markdown",
   "source": [
    "In der Auftrags-Pool-Ausführungsdatei finden Sie eine Liste aller Aufträge. Diese können bereits abgeschlossen, in Bearbeitung oder geplant sein. Jede Zeile enthält die folgenden Daten:\n",
    "- Auftragsinformationen (Link zur Auftragskennung und/oder zum Namen)\n",
    "- Kundeninformationen (Link zum zugehörigen Kunden)\n",
    "- Preisinformationen (Wie viel kostet der Auftrag?)\n",
    "- Produktinformationen (Link zum zugehörigen Produkt (Teil) und/oder zur Produktklasse (Art des Produkts))\n",
    "- Zeitinformationen (Zeitstempel des Auftragslebenszyklus - („Auftragsdatum”, „Freigabedatum”, „Gewünschter Liefertermin“, „Geplanter Liefertermin“, „Tatsächlicher Liefertermin“))\n",
    "– Dringlichkeitsinformationen (Ist die Bestellung dringend?)\n",
    "– Feature-Informationen (beschreibt die vom Kunden gewählten Produktspezifikationen)\n",
    "– Features werden Prozessen zugeordnet (im statischen Zustandsmodell).\n",
    "\n",
    "Der Auftrag wird durch die Ausführung einer Reihe von Prozessen abgeschlossen, die erforderlich sind, um die ausgewählten Merkmale zum Produkt hinzuzufügen. Diese Dateneinträge sind erforderlich, um das Zustandsmodell des digitalen Zwillings zu aktualisieren. Dies ist jedoch nur ein Beispiel dafür, wie die Dateneingabe aussehen könnte. Abweichende Datenstrukturen sind ebenfalls möglich. Wenn beispielsweise der Auftrag in einem Anwendungsfall auf Stücklisten oder Prozessen statt auf Merkmalen basiert, könnten Merkmale künstlich hinzugefügt werden. Wie bereits für die Event Logs erwähnt, können Datenlücken (fehlende Daten) als Teil der Datenintegration behandelt werden."
   ],
   "id": "147cde98c18d13bc"
  }
 ],
 "metadata": {},
 "nbformat": 4,
 "nbformat_minor": 5
}
